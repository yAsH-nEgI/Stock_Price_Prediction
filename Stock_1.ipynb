{
  "cells": [
    {
      "cell_type": "code",
      "execution_count": 119,
      "id": "b229cc10",
      "metadata": {
        "id": "b229cc10"
      },
      "outputs": [],
      "source": [
        "import numpy as np\n",
        "import pandas as pd\n",
        "import matplotlib.pyplot as plt\n",
        "import pandas_datareader as pdr\n",
        "import pandas_datareader.data as web\n",
        "import yfinance as yf"
      ]
    },
    {
      "cell_type": "code",
      "execution_count": 120,
      "id": "2bd01b20",
      "metadata": {
        "colab": {
          "base_uri": "https://localhost:8080/",
          "height": 255
        },
        "id": "2bd01b20",
        "outputId": "9ecb0519-7482-4b68-d830-f9a7da3694f9"
      },
      "outputs": [
        {
          "output_type": "stream",
          "name": "stdout",
          "text": [
            "\r[*********************100%***********************]  1 of 1 completed\n"
          ]
        },
        {
          "output_type": "execute_result",
          "data": {
            "text/plain": [
              "                   Open    High          Low        Close    Adj Close  Volume\n",
              "Date                                                                          \n",
              "2008-01-01  7220.049805  7340.0  7126.149902  7156.450195  6856.416016    2644\n",
              "2008-01-02  7190.000000  7238.0  7015.000000  7061.649902  6765.589355    3370\n",
              "2008-01-03  7075.000000  7150.0  7000.000000  7047.649902  6752.176270    3365\n",
              "2008-01-04  7060.000000  7265.0  7000.049805  7039.250000  6744.130371    4584\n",
              "2008-01-07  7040.000000  7150.0  6950.000000  7000.000000  6706.525391    3488"
            ],
            "text/html": [
              "\n",
              "  <div id=\"df-04ca03a8-5381-4858-b56e-90d28636b59f\">\n",
              "    <div class=\"colab-df-container\">\n",
              "      <div>\n",
              "<style scoped>\n",
              "    .dataframe tbody tr th:only-of-type {\n",
              "        vertical-align: middle;\n",
              "    }\n",
              "\n",
              "    .dataframe tbody tr th {\n",
              "        vertical-align: top;\n",
              "    }\n",
              "\n",
              "    .dataframe thead th {\n",
              "        text-align: right;\n",
              "    }\n",
              "</style>\n",
              "<table border=\"1\" class=\"dataframe\">\n",
              "  <thead>\n",
              "    <tr style=\"text-align: right;\">\n",
              "      <th></th>\n",
              "      <th>Open</th>\n",
              "      <th>High</th>\n",
              "      <th>Low</th>\n",
              "      <th>Close</th>\n",
              "      <th>Adj Close</th>\n",
              "      <th>Volume</th>\n",
              "    </tr>\n",
              "    <tr>\n",
              "      <th>Date</th>\n",
              "      <th></th>\n",
              "      <th></th>\n",
              "      <th></th>\n",
              "      <th></th>\n",
              "      <th></th>\n",
              "      <th></th>\n",
              "    </tr>\n",
              "  </thead>\n",
              "  <tbody>\n",
              "    <tr>\n",
              "      <th>2008-01-01</th>\n",
              "      <td>7220.049805</td>\n",
              "      <td>7340.0</td>\n",
              "      <td>7126.149902</td>\n",
              "      <td>7156.450195</td>\n",
              "      <td>6856.416016</td>\n",
              "      <td>2644</td>\n",
              "    </tr>\n",
              "    <tr>\n",
              "      <th>2008-01-02</th>\n",
              "      <td>7190.000000</td>\n",
              "      <td>7238.0</td>\n",
              "      <td>7015.000000</td>\n",
              "      <td>7061.649902</td>\n",
              "      <td>6765.589355</td>\n",
              "      <td>3370</td>\n",
              "    </tr>\n",
              "    <tr>\n",
              "      <th>2008-01-03</th>\n",
              "      <td>7075.000000</td>\n",
              "      <td>7150.0</td>\n",
              "      <td>7000.000000</td>\n",
              "      <td>7047.649902</td>\n",
              "      <td>6752.176270</td>\n",
              "      <td>3365</td>\n",
              "    </tr>\n",
              "    <tr>\n",
              "      <th>2008-01-04</th>\n",
              "      <td>7060.000000</td>\n",
              "      <td>7265.0</td>\n",
              "      <td>7000.049805</td>\n",
              "      <td>7039.250000</td>\n",
              "      <td>6744.130371</td>\n",
              "      <td>4584</td>\n",
              "    </tr>\n",
              "    <tr>\n",
              "      <th>2008-01-07</th>\n",
              "      <td>7040.000000</td>\n",
              "      <td>7150.0</td>\n",
              "      <td>6950.000000</td>\n",
              "      <td>7000.000000</td>\n",
              "      <td>6706.525391</td>\n",
              "      <td>3488</td>\n",
              "    </tr>\n",
              "  </tbody>\n",
              "</table>\n",
              "</div>\n",
              "      <button class=\"colab-df-convert\" onclick=\"convertToInteractive('df-04ca03a8-5381-4858-b56e-90d28636b59f')\"\n",
              "              title=\"Convert this dataframe to an interactive table.\"\n",
              "              style=\"display:none;\">\n",
              "        \n",
              "  <svg xmlns=\"http://www.w3.org/2000/svg\" height=\"24px\"viewBox=\"0 0 24 24\"\n",
              "       width=\"24px\">\n",
              "    <path d=\"M0 0h24v24H0V0z\" fill=\"none\"/>\n",
              "    <path d=\"M18.56 5.44l.94 2.06.94-2.06 2.06-.94-2.06-.94-.94-2.06-.94 2.06-2.06.94zm-11 1L8.5 8.5l.94-2.06 2.06-.94-2.06-.94L8.5 2.5l-.94 2.06-2.06.94zm10 10l.94 2.06.94-2.06 2.06-.94-2.06-.94-.94-2.06-.94 2.06-2.06.94z\"/><path d=\"M17.41 7.96l-1.37-1.37c-.4-.4-.92-.59-1.43-.59-.52 0-1.04.2-1.43.59L10.3 9.45l-7.72 7.72c-.78.78-.78 2.05 0 2.83L4 21.41c.39.39.9.59 1.41.59.51 0 1.02-.2 1.41-.59l7.78-7.78 2.81-2.81c.8-.78.8-2.07 0-2.86zM5.41 20L4 18.59l7.72-7.72 1.47 1.35L5.41 20z\"/>\n",
              "  </svg>\n",
              "      </button>\n",
              "      \n",
              "  <style>\n",
              "    .colab-df-container {\n",
              "      display:flex;\n",
              "      flex-wrap:wrap;\n",
              "      gap: 12px;\n",
              "    }\n",
              "\n",
              "    .colab-df-convert {\n",
              "      background-color: #E8F0FE;\n",
              "      border: none;\n",
              "      border-radius: 50%;\n",
              "      cursor: pointer;\n",
              "      display: none;\n",
              "      fill: #1967D2;\n",
              "      height: 32px;\n",
              "      padding: 0 0 0 0;\n",
              "      width: 32px;\n",
              "    }\n",
              "\n",
              "    .colab-df-convert:hover {\n",
              "      background-color: #E2EBFA;\n",
              "      box-shadow: 0px 1px 2px rgba(60, 64, 67, 0.3), 0px 1px 3px 1px rgba(60, 64, 67, 0.15);\n",
              "      fill: #174EA6;\n",
              "    }\n",
              "\n",
              "    [theme=dark] .colab-df-convert {\n",
              "      background-color: #3B4455;\n",
              "      fill: #D2E3FC;\n",
              "    }\n",
              "\n",
              "    [theme=dark] .colab-df-convert:hover {\n",
              "      background-color: #434B5C;\n",
              "      box-shadow: 0px 1px 3px 1px rgba(0, 0, 0, 0.15);\n",
              "      filter: drop-shadow(0px 1px 2px rgba(0, 0, 0, 0.3));\n",
              "      fill: #FFFFFF;\n",
              "    }\n",
              "  </style>\n",
              "\n",
              "      <script>\n",
              "        const buttonEl =\n",
              "          document.querySelector('#df-04ca03a8-5381-4858-b56e-90d28636b59f button.colab-df-convert');\n",
              "        buttonEl.style.display =\n",
              "          google.colab.kernel.accessAllowed ? 'block' : 'none';\n",
              "\n",
              "        async function convertToInteractive(key) {\n",
              "          const element = document.querySelector('#df-04ca03a8-5381-4858-b56e-90d28636b59f');\n",
              "          const dataTable =\n",
              "            await google.colab.kernel.invokeFunction('convertToInteractive',\n",
              "                                                     [key], {});\n",
              "          if (!dataTable) return;\n",
              "\n",
              "          const docLinkHtml = 'Like what you see? Visit the ' +\n",
              "            '<a target=\"_blank\" href=https://colab.research.google.com/notebooks/data_table.ipynb>data table notebook</a>'\n",
              "            + ' to learn more about interactive tables.';\n",
              "          element.innerHTML = '';\n",
              "          dataTable['output_type'] = 'display_data';\n",
              "          await google.colab.output.renderOutput(dataTable, element);\n",
              "          const docLink = document.createElement('div');\n",
              "          docLink.innerHTML = docLinkHtml;\n",
              "          element.appendChild(docLink);\n",
              "        }\n",
              "      </script>\n",
              "    </div>\n",
              "  </div>\n",
              "  "
            ]
          },
          "metadata": {},
          "execution_count": 120
        }
      ],
      "source": [
        "start = '2008-01-01'\n",
        "end = '2023-04-13'\n",
        "df = yf.download(\"MRF.NS\", start, end) ##Fetching Data From Yahoo Finance\n",
        "df.head()"
      ]
    },
    {
      "cell_type": "code",
      "execution_count": 121,
      "id": "1f925fdc",
      "metadata": {
        "colab": {
          "base_uri": "https://localhost:8080/",
          "height": 237
        },
        "id": "1f925fdc",
        "outputId": "72d9e378-1236-41f7-f8c9-705a1cafc015"
      },
      "outputs": [
        {
          "output_type": "execute_result",
          "data": {
            "text/plain": [
              "                    Open          High           Low         Close  \\\n",
              "Date                                                                 \n",
              "2023-04-05  84284.203125  84746.500000  83830.000000  83949.898438   \n",
              "2023-04-06  84000.000000  84500.000000  83325.750000  84005.546875   \n",
              "2023-04-10  83750.000000  84780.000000  83750.000000  84398.453125   \n",
              "2023-04-11  84601.046875  85298.296875  84294.296875  84617.000000   \n",
              "2023-04-12  84800.898438  85794.203125  84750.000000  85456.250000   \n",
              "\n",
              "               Adj Close  Volume  \n",
              "Date                              \n",
              "2023-04-05  83949.898438    2944  \n",
              "2023-04-06  84005.546875    3733  \n",
              "2023-04-10  84398.453125    3582  \n",
              "2023-04-11  84617.000000    3034  \n",
              "2023-04-12  85456.250000    4928  "
            ],
            "text/html": [
              "\n",
              "  <div id=\"df-9b4cf28d-1fdb-45e1-8723-07ee1804ffa8\">\n",
              "    <div class=\"colab-df-container\">\n",
              "      <div>\n",
              "<style scoped>\n",
              "    .dataframe tbody tr th:only-of-type {\n",
              "        vertical-align: middle;\n",
              "    }\n",
              "\n",
              "    .dataframe tbody tr th {\n",
              "        vertical-align: top;\n",
              "    }\n",
              "\n",
              "    .dataframe thead th {\n",
              "        text-align: right;\n",
              "    }\n",
              "</style>\n",
              "<table border=\"1\" class=\"dataframe\">\n",
              "  <thead>\n",
              "    <tr style=\"text-align: right;\">\n",
              "      <th></th>\n",
              "      <th>Open</th>\n",
              "      <th>High</th>\n",
              "      <th>Low</th>\n",
              "      <th>Close</th>\n",
              "      <th>Adj Close</th>\n",
              "      <th>Volume</th>\n",
              "    </tr>\n",
              "    <tr>\n",
              "      <th>Date</th>\n",
              "      <th></th>\n",
              "      <th></th>\n",
              "      <th></th>\n",
              "      <th></th>\n",
              "      <th></th>\n",
              "      <th></th>\n",
              "    </tr>\n",
              "  </thead>\n",
              "  <tbody>\n",
              "    <tr>\n",
              "      <th>2023-04-05</th>\n",
              "      <td>84284.203125</td>\n",
              "      <td>84746.500000</td>\n",
              "      <td>83830.000000</td>\n",
              "      <td>83949.898438</td>\n",
              "      <td>83949.898438</td>\n",
              "      <td>2944</td>\n",
              "    </tr>\n",
              "    <tr>\n",
              "      <th>2023-04-06</th>\n",
              "      <td>84000.000000</td>\n",
              "      <td>84500.000000</td>\n",
              "      <td>83325.750000</td>\n",
              "      <td>84005.546875</td>\n",
              "      <td>84005.546875</td>\n",
              "      <td>3733</td>\n",
              "    </tr>\n",
              "    <tr>\n",
              "      <th>2023-04-10</th>\n",
              "      <td>83750.000000</td>\n",
              "      <td>84780.000000</td>\n",
              "      <td>83750.000000</td>\n",
              "      <td>84398.453125</td>\n",
              "      <td>84398.453125</td>\n",
              "      <td>3582</td>\n",
              "    </tr>\n",
              "    <tr>\n",
              "      <th>2023-04-11</th>\n",
              "      <td>84601.046875</td>\n",
              "      <td>85298.296875</td>\n",
              "      <td>84294.296875</td>\n",
              "      <td>84617.000000</td>\n",
              "      <td>84617.000000</td>\n",
              "      <td>3034</td>\n",
              "    </tr>\n",
              "    <tr>\n",
              "      <th>2023-04-12</th>\n",
              "      <td>84800.898438</td>\n",
              "      <td>85794.203125</td>\n",
              "      <td>84750.000000</td>\n",
              "      <td>85456.250000</td>\n",
              "      <td>85456.250000</td>\n",
              "      <td>4928</td>\n",
              "    </tr>\n",
              "  </tbody>\n",
              "</table>\n",
              "</div>\n",
              "      <button class=\"colab-df-convert\" onclick=\"convertToInteractive('df-9b4cf28d-1fdb-45e1-8723-07ee1804ffa8')\"\n",
              "              title=\"Convert this dataframe to an interactive table.\"\n",
              "              style=\"display:none;\">\n",
              "        \n",
              "  <svg xmlns=\"http://www.w3.org/2000/svg\" height=\"24px\"viewBox=\"0 0 24 24\"\n",
              "       width=\"24px\">\n",
              "    <path d=\"M0 0h24v24H0V0z\" fill=\"none\"/>\n",
              "    <path d=\"M18.56 5.44l.94 2.06.94-2.06 2.06-.94-2.06-.94-.94-2.06-.94 2.06-2.06.94zm-11 1L8.5 8.5l.94-2.06 2.06-.94-2.06-.94L8.5 2.5l-.94 2.06-2.06.94zm10 10l.94 2.06.94-2.06 2.06-.94-2.06-.94-.94-2.06-.94 2.06-2.06.94z\"/><path d=\"M17.41 7.96l-1.37-1.37c-.4-.4-.92-.59-1.43-.59-.52 0-1.04.2-1.43.59L10.3 9.45l-7.72 7.72c-.78.78-.78 2.05 0 2.83L4 21.41c.39.39.9.59 1.41.59.51 0 1.02-.2 1.41-.59l7.78-7.78 2.81-2.81c.8-.78.8-2.07 0-2.86zM5.41 20L4 18.59l7.72-7.72 1.47 1.35L5.41 20z\"/>\n",
              "  </svg>\n",
              "      </button>\n",
              "      \n",
              "  <style>\n",
              "    .colab-df-container {\n",
              "      display:flex;\n",
              "      flex-wrap:wrap;\n",
              "      gap: 12px;\n",
              "    }\n",
              "\n",
              "    .colab-df-convert {\n",
              "      background-color: #E8F0FE;\n",
              "      border: none;\n",
              "      border-radius: 50%;\n",
              "      cursor: pointer;\n",
              "      display: none;\n",
              "      fill: #1967D2;\n",
              "      height: 32px;\n",
              "      padding: 0 0 0 0;\n",
              "      width: 32px;\n",
              "    }\n",
              "\n",
              "    .colab-df-convert:hover {\n",
              "      background-color: #E2EBFA;\n",
              "      box-shadow: 0px 1px 2px rgba(60, 64, 67, 0.3), 0px 1px 3px 1px rgba(60, 64, 67, 0.15);\n",
              "      fill: #174EA6;\n",
              "    }\n",
              "\n",
              "    [theme=dark] .colab-df-convert {\n",
              "      background-color: #3B4455;\n",
              "      fill: #D2E3FC;\n",
              "    }\n",
              "\n",
              "    [theme=dark] .colab-df-convert:hover {\n",
              "      background-color: #434B5C;\n",
              "      box-shadow: 0px 1px 3px 1px rgba(0, 0, 0, 0.15);\n",
              "      filter: drop-shadow(0px 1px 2px rgba(0, 0, 0, 0.3));\n",
              "      fill: #FFFFFF;\n",
              "    }\n",
              "  </style>\n",
              "\n",
              "      <script>\n",
              "        const buttonEl =\n",
              "          document.querySelector('#df-9b4cf28d-1fdb-45e1-8723-07ee1804ffa8 button.colab-df-convert');\n",
              "        buttonEl.style.display =\n",
              "          google.colab.kernel.accessAllowed ? 'block' : 'none';\n",
              "\n",
              "        async function convertToInteractive(key) {\n",
              "          const element = document.querySelector('#df-9b4cf28d-1fdb-45e1-8723-07ee1804ffa8');\n",
              "          const dataTable =\n",
              "            await google.colab.kernel.invokeFunction('convertToInteractive',\n",
              "                                                     [key], {});\n",
              "          if (!dataTable) return;\n",
              "\n",
              "          const docLinkHtml = 'Like what you see? Visit the ' +\n",
              "            '<a target=\"_blank\" href=https://colab.research.google.com/notebooks/data_table.ipynb>data table notebook</a>'\n",
              "            + ' to learn more about interactive tables.';\n",
              "          element.innerHTML = '';\n",
              "          dataTable['output_type'] = 'display_data';\n",
              "          await google.colab.output.renderOutput(dataTable, element);\n",
              "          const docLink = document.createElement('div');\n",
              "          docLink.innerHTML = docLinkHtml;\n",
              "          element.appendChild(docLink);\n",
              "        }\n",
              "      </script>\n",
              "    </div>\n",
              "  </div>\n",
              "  "
            ]
          },
          "metadata": {},
          "execution_count": 121
        }
      ],
      "source": [
        "df.tail()"
      ]
    },
    {
      "cell_type": "code",
      "execution_count": 122,
      "id": "b9ea5278",
      "metadata": {
        "colab": {
          "base_uri": "https://localhost:8080/",
          "height": 206
        },
        "id": "b9ea5278",
        "outputId": "6d26dba3-488d-460c-a55b-11341fd7d1ab"
      },
      "outputs": [
        {
          "output_type": "execute_result",
          "data": {
            "text/plain": [
              "        Date         Open    High          Low        Close    Adj Close  \\\n",
              "0 2008-01-01  7220.049805  7340.0  7126.149902  7156.450195  6856.416016   \n",
              "1 2008-01-02  7190.000000  7238.0  7015.000000  7061.649902  6765.589355   \n",
              "2 2008-01-03  7075.000000  7150.0  7000.000000  7047.649902  6752.176270   \n",
              "3 2008-01-04  7060.000000  7265.0  7000.049805  7039.250000  6744.130371   \n",
              "4 2008-01-07  7040.000000  7150.0  6950.000000  7000.000000  6706.525391   \n",
              "\n",
              "   Volume  \n",
              "0    2644  \n",
              "1    3370  \n",
              "2    3365  \n",
              "3    4584  \n",
              "4    3488  "
            ],
            "text/html": [
              "\n",
              "  <div id=\"df-10b4d08d-bfe6-4fd3-8ca8-3f9788ddbe80\">\n",
              "    <div class=\"colab-df-container\">\n",
              "      <div>\n",
              "<style scoped>\n",
              "    .dataframe tbody tr th:only-of-type {\n",
              "        vertical-align: middle;\n",
              "    }\n",
              "\n",
              "    .dataframe tbody tr th {\n",
              "        vertical-align: top;\n",
              "    }\n",
              "\n",
              "    .dataframe thead th {\n",
              "        text-align: right;\n",
              "    }\n",
              "</style>\n",
              "<table border=\"1\" class=\"dataframe\">\n",
              "  <thead>\n",
              "    <tr style=\"text-align: right;\">\n",
              "      <th></th>\n",
              "      <th>Date</th>\n",
              "      <th>Open</th>\n",
              "      <th>High</th>\n",
              "      <th>Low</th>\n",
              "      <th>Close</th>\n",
              "      <th>Adj Close</th>\n",
              "      <th>Volume</th>\n",
              "    </tr>\n",
              "  </thead>\n",
              "  <tbody>\n",
              "    <tr>\n",
              "      <th>0</th>\n",
              "      <td>2008-01-01</td>\n",
              "      <td>7220.049805</td>\n",
              "      <td>7340.0</td>\n",
              "      <td>7126.149902</td>\n",
              "      <td>7156.450195</td>\n",
              "      <td>6856.416016</td>\n",
              "      <td>2644</td>\n",
              "    </tr>\n",
              "    <tr>\n",
              "      <th>1</th>\n",
              "      <td>2008-01-02</td>\n",
              "      <td>7190.000000</td>\n",
              "      <td>7238.0</td>\n",
              "      <td>7015.000000</td>\n",
              "      <td>7061.649902</td>\n",
              "      <td>6765.589355</td>\n",
              "      <td>3370</td>\n",
              "    </tr>\n",
              "    <tr>\n",
              "      <th>2</th>\n",
              "      <td>2008-01-03</td>\n",
              "      <td>7075.000000</td>\n",
              "      <td>7150.0</td>\n",
              "      <td>7000.000000</td>\n",
              "      <td>7047.649902</td>\n",
              "      <td>6752.176270</td>\n",
              "      <td>3365</td>\n",
              "    </tr>\n",
              "    <tr>\n",
              "      <th>3</th>\n",
              "      <td>2008-01-04</td>\n",
              "      <td>7060.000000</td>\n",
              "      <td>7265.0</td>\n",
              "      <td>7000.049805</td>\n",
              "      <td>7039.250000</td>\n",
              "      <td>6744.130371</td>\n",
              "      <td>4584</td>\n",
              "    </tr>\n",
              "    <tr>\n",
              "      <th>4</th>\n",
              "      <td>2008-01-07</td>\n",
              "      <td>7040.000000</td>\n",
              "      <td>7150.0</td>\n",
              "      <td>6950.000000</td>\n",
              "      <td>7000.000000</td>\n",
              "      <td>6706.525391</td>\n",
              "      <td>3488</td>\n",
              "    </tr>\n",
              "  </tbody>\n",
              "</table>\n",
              "</div>\n",
              "      <button class=\"colab-df-convert\" onclick=\"convertToInteractive('df-10b4d08d-bfe6-4fd3-8ca8-3f9788ddbe80')\"\n",
              "              title=\"Convert this dataframe to an interactive table.\"\n",
              "              style=\"display:none;\">\n",
              "        \n",
              "  <svg xmlns=\"http://www.w3.org/2000/svg\" height=\"24px\"viewBox=\"0 0 24 24\"\n",
              "       width=\"24px\">\n",
              "    <path d=\"M0 0h24v24H0V0z\" fill=\"none\"/>\n",
              "    <path d=\"M18.56 5.44l.94 2.06.94-2.06 2.06-.94-2.06-.94-.94-2.06-.94 2.06-2.06.94zm-11 1L8.5 8.5l.94-2.06 2.06-.94-2.06-.94L8.5 2.5l-.94 2.06-2.06.94zm10 10l.94 2.06.94-2.06 2.06-.94-2.06-.94-.94-2.06-.94 2.06-2.06.94z\"/><path d=\"M17.41 7.96l-1.37-1.37c-.4-.4-.92-.59-1.43-.59-.52 0-1.04.2-1.43.59L10.3 9.45l-7.72 7.72c-.78.78-.78 2.05 0 2.83L4 21.41c.39.39.9.59 1.41.59.51 0 1.02-.2 1.41-.59l7.78-7.78 2.81-2.81c.8-.78.8-2.07 0-2.86zM5.41 20L4 18.59l7.72-7.72 1.47 1.35L5.41 20z\"/>\n",
              "  </svg>\n",
              "      </button>\n",
              "      \n",
              "  <style>\n",
              "    .colab-df-container {\n",
              "      display:flex;\n",
              "      flex-wrap:wrap;\n",
              "      gap: 12px;\n",
              "    }\n",
              "\n",
              "    .colab-df-convert {\n",
              "      background-color: #E8F0FE;\n",
              "      border: none;\n",
              "      border-radius: 50%;\n",
              "      cursor: pointer;\n",
              "      display: none;\n",
              "      fill: #1967D2;\n",
              "      height: 32px;\n",
              "      padding: 0 0 0 0;\n",
              "      width: 32px;\n",
              "    }\n",
              "\n",
              "    .colab-df-convert:hover {\n",
              "      background-color: #E2EBFA;\n",
              "      box-shadow: 0px 1px 2px rgba(60, 64, 67, 0.3), 0px 1px 3px 1px rgba(60, 64, 67, 0.15);\n",
              "      fill: #174EA6;\n",
              "    }\n",
              "\n",
              "    [theme=dark] .colab-df-convert {\n",
              "      background-color: #3B4455;\n",
              "      fill: #D2E3FC;\n",
              "    }\n",
              "\n",
              "    [theme=dark] .colab-df-convert:hover {\n",
              "      background-color: #434B5C;\n",
              "      box-shadow: 0px 1px 3px 1px rgba(0, 0, 0, 0.15);\n",
              "      filter: drop-shadow(0px 1px 2px rgba(0, 0, 0, 0.3));\n",
              "      fill: #FFFFFF;\n",
              "    }\n",
              "  </style>\n",
              "\n",
              "      <script>\n",
              "        const buttonEl =\n",
              "          document.querySelector('#df-10b4d08d-bfe6-4fd3-8ca8-3f9788ddbe80 button.colab-df-convert');\n",
              "        buttonEl.style.display =\n",
              "          google.colab.kernel.accessAllowed ? 'block' : 'none';\n",
              "\n",
              "        async function convertToInteractive(key) {\n",
              "          const element = document.querySelector('#df-10b4d08d-bfe6-4fd3-8ca8-3f9788ddbe80');\n",
              "          const dataTable =\n",
              "            await google.colab.kernel.invokeFunction('convertToInteractive',\n",
              "                                                     [key], {});\n",
              "          if (!dataTable) return;\n",
              "\n",
              "          const docLinkHtml = 'Like what you see? Visit the ' +\n",
              "            '<a target=\"_blank\" href=https://colab.research.google.com/notebooks/data_table.ipynb>data table notebook</a>'\n",
              "            + ' to learn more about interactive tables.';\n",
              "          element.innerHTML = '';\n",
              "          dataTable['output_type'] = 'display_data';\n",
              "          await google.colab.output.renderOutput(dataTable, element);\n",
              "          const docLink = document.createElement('div');\n",
              "          docLink.innerHTML = docLinkHtml;\n",
              "          element.appendChild(docLink);\n",
              "        }\n",
              "      </script>\n",
              "    </div>\n",
              "  </div>\n",
              "  "
            ]
          },
          "metadata": {},
          "execution_count": 122
        }
      ],
      "source": [
        "df = df.reset_index()   ##Index was set to date so reset it\n",
        "df.head()"
      ]
    },
    {
      "cell_type": "code",
      "execution_count": 123,
      "id": "48b2d5fc",
      "metadata": {
        "colab": {
          "base_uri": "https://localhost:8080/",
          "height": 206
        },
        "id": "48b2d5fc",
        "outputId": "6706a4ac-e675-492d-cf07-195fca9662eb"
      },
      "outputs": [
        {
          "output_type": "execute_result",
          "data": {
            "text/plain": [
              "          Open    High          Low        Close  Volume\n",
              "0  7220.049805  7340.0  7126.149902  7156.450195    2644\n",
              "1  7190.000000  7238.0  7015.000000  7061.649902    3370\n",
              "2  7075.000000  7150.0  7000.000000  7047.649902    3365\n",
              "3  7060.000000  7265.0  7000.049805  7039.250000    4584\n",
              "4  7040.000000  7150.0  6950.000000  7000.000000    3488"
            ],
            "text/html": [
              "\n",
              "  <div id=\"df-5a75f316-37d6-41a6-a4af-7beb68b847c6\">\n",
              "    <div class=\"colab-df-container\">\n",
              "      <div>\n",
              "<style scoped>\n",
              "    .dataframe tbody tr th:only-of-type {\n",
              "        vertical-align: middle;\n",
              "    }\n",
              "\n",
              "    .dataframe tbody tr th {\n",
              "        vertical-align: top;\n",
              "    }\n",
              "\n",
              "    .dataframe thead th {\n",
              "        text-align: right;\n",
              "    }\n",
              "</style>\n",
              "<table border=\"1\" class=\"dataframe\">\n",
              "  <thead>\n",
              "    <tr style=\"text-align: right;\">\n",
              "      <th></th>\n",
              "      <th>Open</th>\n",
              "      <th>High</th>\n",
              "      <th>Low</th>\n",
              "      <th>Close</th>\n",
              "      <th>Volume</th>\n",
              "    </tr>\n",
              "  </thead>\n",
              "  <tbody>\n",
              "    <tr>\n",
              "      <th>0</th>\n",
              "      <td>7220.049805</td>\n",
              "      <td>7340.0</td>\n",
              "      <td>7126.149902</td>\n",
              "      <td>7156.450195</td>\n",
              "      <td>2644</td>\n",
              "    </tr>\n",
              "    <tr>\n",
              "      <th>1</th>\n",
              "      <td>7190.000000</td>\n",
              "      <td>7238.0</td>\n",
              "      <td>7015.000000</td>\n",
              "      <td>7061.649902</td>\n",
              "      <td>3370</td>\n",
              "    </tr>\n",
              "    <tr>\n",
              "      <th>2</th>\n",
              "      <td>7075.000000</td>\n",
              "      <td>7150.0</td>\n",
              "      <td>7000.000000</td>\n",
              "      <td>7047.649902</td>\n",
              "      <td>3365</td>\n",
              "    </tr>\n",
              "    <tr>\n",
              "      <th>3</th>\n",
              "      <td>7060.000000</td>\n",
              "      <td>7265.0</td>\n",
              "      <td>7000.049805</td>\n",
              "      <td>7039.250000</td>\n",
              "      <td>4584</td>\n",
              "    </tr>\n",
              "    <tr>\n",
              "      <th>4</th>\n",
              "      <td>7040.000000</td>\n",
              "      <td>7150.0</td>\n",
              "      <td>6950.000000</td>\n",
              "      <td>7000.000000</td>\n",
              "      <td>3488</td>\n",
              "    </tr>\n",
              "  </tbody>\n",
              "</table>\n",
              "</div>\n",
              "      <button class=\"colab-df-convert\" onclick=\"convertToInteractive('df-5a75f316-37d6-41a6-a4af-7beb68b847c6')\"\n",
              "              title=\"Convert this dataframe to an interactive table.\"\n",
              "              style=\"display:none;\">\n",
              "        \n",
              "  <svg xmlns=\"http://www.w3.org/2000/svg\" height=\"24px\"viewBox=\"0 0 24 24\"\n",
              "       width=\"24px\">\n",
              "    <path d=\"M0 0h24v24H0V0z\" fill=\"none\"/>\n",
              "    <path d=\"M18.56 5.44l.94 2.06.94-2.06 2.06-.94-2.06-.94-.94-2.06-.94 2.06-2.06.94zm-11 1L8.5 8.5l.94-2.06 2.06-.94-2.06-.94L8.5 2.5l-.94 2.06-2.06.94zm10 10l.94 2.06.94-2.06 2.06-.94-2.06-.94-.94-2.06-.94 2.06-2.06.94z\"/><path d=\"M17.41 7.96l-1.37-1.37c-.4-.4-.92-.59-1.43-.59-.52 0-1.04.2-1.43.59L10.3 9.45l-7.72 7.72c-.78.78-.78 2.05 0 2.83L4 21.41c.39.39.9.59 1.41.59.51 0 1.02-.2 1.41-.59l7.78-7.78 2.81-2.81c.8-.78.8-2.07 0-2.86zM5.41 20L4 18.59l7.72-7.72 1.47 1.35L5.41 20z\"/>\n",
              "  </svg>\n",
              "      </button>\n",
              "      \n",
              "  <style>\n",
              "    .colab-df-container {\n",
              "      display:flex;\n",
              "      flex-wrap:wrap;\n",
              "      gap: 12px;\n",
              "    }\n",
              "\n",
              "    .colab-df-convert {\n",
              "      background-color: #E8F0FE;\n",
              "      border: none;\n",
              "      border-radius: 50%;\n",
              "      cursor: pointer;\n",
              "      display: none;\n",
              "      fill: #1967D2;\n",
              "      height: 32px;\n",
              "      padding: 0 0 0 0;\n",
              "      width: 32px;\n",
              "    }\n",
              "\n",
              "    .colab-df-convert:hover {\n",
              "      background-color: #E2EBFA;\n",
              "      box-shadow: 0px 1px 2px rgba(60, 64, 67, 0.3), 0px 1px 3px 1px rgba(60, 64, 67, 0.15);\n",
              "      fill: #174EA6;\n",
              "    }\n",
              "\n",
              "    [theme=dark] .colab-df-convert {\n",
              "      background-color: #3B4455;\n",
              "      fill: #D2E3FC;\n",
              "    }\n",
              "\n",
              "    [theme=dark] .colab-df-convert:hover {\n",
              "      background-color: #434B5C;\n",
              "      box-shadow: 0px 1px 3px 1px rgba(0, 0, 0, 0.15);\n",
              "      filter: drop-shadow(0px 1px 2px rgba(0, 0, 0, 0.3));\n",
              "      fill: #FFFFFF;\n",
              "    }\n",
              "  </style>\n",
              "\n",
              "      <script>\n",
              "        const buttonEl =\n",
              "          document.querySelector('#df-5a75f316-37d6-41a6-a4af-7beb68b847c6 button.colab-df-convert');\n",
              "        buttonEl.style.display =\n",
              "          google.colab.kernel.accessAllowed ? 'block' : 'none';\n",
              "\n",
              "        async function convertToInteractive(key) {\n",
              "          const element = document.querySelector('#df-5a75f316-37d6-41a6-a4af-7beb68b847c6');\n",
              "          const dataTable =\n",
              "            await google.colab.kernel.invokeFunction('convertToInteractive',\n",
              "                                                     [key], {});\n",
              "          if (!dataTable) return;\n",
              "\n",
              "          const docLinkHtml = 'Like what you see? Visit the ' +\n",
              "            '<a target=\"_blank\" href=https://colab.research.google.com/notebooks/data_table.ipynb>data table notebook</a>'\n",
              "            + ' to learn more about interactive tables.';\n",
              "          element.innerHTML = '';\n",
              "          dataTable['output_type'] = 'display_data';\n",
              "          await google.colab.output.renderOutput(dataTable, element);\n",
              "          const docLink = document.createElement('div');\n",
              "          docLink.innerHTML = docLinkHtml;\n",
              "          element.appendChild(docLink);\n",
              "        }\n",
              "      </script>\n",
              "    </div>\n",
              "  </div>\n",
              "  "
            ]
          },
          "metadata": {},
          "execution_count": 123
        }
      ],
      "source": [
        "df = df.drop(['Date', 'Adj Close'], axis = 1)   ##Dropping unwanted cols\n",
        "df.head()"
      ]
    },
    {
      "cell_type": "code",
      "execution_count": 124,
      "id": "1960708d",
      "metadata": {
        "colab": {
          "base_uri": "https://localhost:8080/",
          "height": 539
        },
        "id": "1960708d",
        "outputId": "ad5c3a4c-b8b5-4908-fae4-1987c5464115"
      },
      "outputs": [
        {
          "output_type": "execute_result",
          "data": {
            "text/plain": [
              "[<matplotlib.lines.Line2D at 0x7f0d4cb90640>]"
            ]
          },
          "metadata": {},
          "execution_count": 124
        },
        {
          "output_type": "display_data",
          "data": {
            "text/plain": [
              "<Figure size 1000x600 with 1 Axes>"
            ],
            "image/png": "[encoded data removed]"
          },
          "metadata": {}
        }
      ],
      "source": [
        "plt.figure(figsize = (10, 6))\n",
        "plt.plot(df.Close)"
      ]
    },
    {
      "cell_type": "code",
      "execution_count": 125,
      "id": "ab377c02",
      "metadata": {
        "colab": {
          "base_uri": "https://localhost:8080/",
          "height": 423
        },
        "id": "ab377c02",
        "outputId": "a296583d-1fe6-4e26-ff03-e97991a835f2"
      },
      "outputs": [
        {
          "output_type": "execute_result",
          "data": {
            "text/plain": [
              "              Open          High           Low         Close  Volume\n",
              "0      7220.049805   7340.000000   7126.149902   7156.450195    2644\n",
              "1      7190.000000   7238.000000   7015.000000   7061.649902    3370\n",
              "2      7075.000000   7150.000000   7000.000000   7047.649902    3365\n",
              "3      7060.000000   7265.000000   7000.049805   7039.250000    4584\n",
              "4      7040.000000   7150.000000   6950.000000   7000.000000    3488\n",
              "...            ...           ...           ...           ...     ...\n",
              "3761  84284.203125  84746.500000  83830.000000  83949.898438    2944\n",
              "3762  84000.000000  84500.000000  83325.750000  84005.546875    3733\n",
              "3763  83750.000000  84780.000000  83750.000000  84398.453125    3582\n",
              "3764  84601.046875  85298.296875  84294.296875  84617.000000    3034\n",
              "3765  84800.898438  85794.203125  84750.000000  85456.250000    4928\n",
              "\n",
              "[3766 rows x 5 columns]"
            ],
            "text/html": [
              "\n",
              "  <div id=\"df-58a878bd-72c7-49bb-90e7-4119b04e3112\">\n",
              "    <div class=\"colab-df-container\">\n",
              "      <div>\n",
              "<style scoped>\n",
              "    .dataframe tbody tr th:only-of-type {\n",
              "        vertical-align: middle;\n",
              "    }\n",
              "\n",
              "    .dataframe tbody tr th {\n",
              "        vertical-align: top;\n",
              "    }\n",
              "\n",
              "    .dataframe thead th {\n",
              "        text-align: right;\n",
              "    }\n",
              "</style>\n",
              "<table border=\"1\" class=\"dataframe\">\n",
              "  <thead>\n",
              "    <tr style=\"text-align: right;\">\n",
              "      <th></th>\n",
              "      <th>Open</th>\n",
              "      <th>High</th>\n",
              "      <th>Low</th>\n",
              "      <th>Close</th>\n",
              "      <th>Volume</th>\n",
              "    </tr>\n",
              "  </thead>\n",
              "  <tbody>\n",
              "    <tr>\n",
              "      <th>0</th>\n",
              "      <td>7220.049805</td>\n",
              "      <td>7340.000000</td>\n",
              "      <td>7126.149902</td>\n",
              "      <td>7156.450195</td>\n",
              "      <td>2644</td>\n",
              "    </tr>\n",
              "    <tr>\n",
              "      <th>1</th>\n",
              "      <td>7190.000000</td>\n",
              "      <td>7238.000000</td>\n",
              "      <td>7015.000000</td>\n",
              "      <td>7061.649902</td>\n",
              "      <td>3370</td>\n",
              "    </tr>\n",
              "    <tr>\n",
              "      <th>2</th>\n",
              "      <td>7075.000000</td>\n",
              "      <td>7150.000000</td>\n",
              "      <td>7000.000000</td>\n",
              "      <td>7047.649902</td>\n",
              "      <td>3365</td>\n",
              "    </tr>\n",
              "    <tr>\n",
              "      <th>3</th>\n",
              "      <td>7060.000000</td>\n",
              "      <td>7265.000000</td>\n",
              "      <td>7000.049805</td>\n",
              "      <td>7039.250000</td>\n",
              "      <td>4584</td>\n",
              "    </tr>\n",
              "    <tr>\n",
              "      <th>4</th>\n",
              "      <td>7040.000000</td>\n",
              "      <td>7150.000000</td>\n",
              "      <td>6950.000000</td>\n",
              "      <td>7000.000000</td>\n",
              "      <td>3488</td>\n",
              "    </tr>\n",
              "    <tr>\n",
              "      <th>...</th>\n",
              "      <td>...</td>\n",
              "      <td>...</td>\n",
              "      <td>...</td>\n",
              "      <td>...</td>\n",
              "      <td>...</td>\n",
              "    </tr>\n",
              "    <tr>\n",
              "      <th>3761</th>\n",
              "      <td>84284.203125</td>\n",
              "      <td>84746.500000</td>\n",
              "      <td>83830.000000</td>\n",
              "      <td>83949.898438</td>\n",
              "      <td>2944</td>\n",
              "    </tr>\n",
              "    <tr>\n",
              "      <th>3762</th>\n",
              "      <td>84000.000000</td>\n",
              "      <td>84500.000000</td>\n",
              "      <td>83325.750000</td>\n",
              "      <td>84005.546875</td>\n",
              "      <td>3733</td>\n",
              "    </tr>\n",
              "    <tr>\n",
              "      <th>3763</th>\n",
              "      <td>83750.000000</td>\n",
              "      <td>84780.000000</td>\n",
              "      <td>83750.000000</td>\n",
              "      <td>84398.453125</td>\n",
              "      <td>3582</td>\n",
              "    </tr>\n",
              "    <tr>\n",
              "      <th>3764</th>\n",
              "      <td>84601.046875</td>\n",
              "      <td>85298.296875</td>\n",
              "      <td>84294.296875</td>\n",
              "      <td>84617.000000</td>\n",
              "      <td>3034</td>\n",
              "    </tr>\n",
              "    <tr>\n",
              "      <th>3765</th>\n",
              "      <td>84800.898438</td>\n",
              "      <td>85794.203125</td>\n",
              "      <td>84750.000000</td>\n",
              "      <td>85456.250000</td>\n",
              "      <td>4928</td>\n",
              "    </tr>\n",
              "  </tbody>\n",
              "</table>\n",
              "<p>3766 rows × 5 columns</p>\n",
              "</div>\n",
              "      <button class=\"colab-df-convert\" onclick=\"convertToInteractive('df-58a878bd-72c7-49bb-90e7-4119b04e3112')\"\n",
              "              title=\"Convert this dataframe to an interactive table.\"\n",
              "              style=\"display:none;\">\n",
              "        \n",
              "  <svg xmlns=\"http://www.w3.org/2000/svg\" height=\"24px\"viewBox=\"0 0 24 24\"\n",
              "       width=\"24px\">\n",
              "    <path d=\"M0 0h24v24H0V0z\" fill=\"none\"/>\n",
              "    <path d=\"M18.56 5.44l.94 2.06.94-2.06 2.06-.94-2.06-.94-.94-2.06-.94 2.06-2.06.94zm-11 1L8.5 8.5l.94-2.06 2.06-.94-2.06-.94L8.5 2.5l-.94 2.06-2.06.94zm10 10l.94 2.06.94-2.06 2.06-.94-2.06-.94-.94-2.06-.94 2.06-2.06.94z\"/><path d=\"M17.41 7.96l-1.37-1.37c-.4-.4-.92-.59-1.43-.59-.52 0-1.04.2-1.43.59L10.3 9.45l-7.72 7.72c-.78.78-.78 2.05 0 2.83L4 21.41c.39.39.9.59 1.41.59.51 0 1.02-.2 1.41-.59l7.78-7.78 2.81-2.81c.8-.78.8-2.07 0-2.86zM5.41 20L4 18.59l7.72-7.72 1.47 1.35L5.41 20z\"/>\n",
              "  </svg>\n",
              "      </button>\n",
              "      \n",
              "  <style>\n",
              "    .colab-df-container {\n",
              "      display:flex;\n",
              "      flex-wrap:wrap;\n",
              "      gap: 12px;\n",
              "    }\n",
              "\n",
              "    .colab-df-convert {\n",
              "      background-color: #E8F0FE;\n",
              "      border: none;\n",
              "      border-radius: 50%;\n",
              "      cursor: pointer;\n",
              "      display: none;\n",
              "      fill: #1967D2;\n",
              "      height: 32px;\n",
              "      padding: 0 0 0 0;\n",
              "      width: 32px;\n",
              "    }\n",
              "\n",
              "    .colab-df-convert:hover {\n",
              "      background-color: #E2EBFA;\n",
              "      box-shadow: 0px 1px 2px rgba(60, 64, 67, 0.3), 0px 1px 3px 1px rgba(60, 64, 67, 0.15);\n",
              "      fill: #174EA6;\n",
              "    }\n",
              "\n",
              "    [theme=dark] .colab-df-convert {\n",
              "      background-color: #3B4455;\n",
              "      fill: #D2E3FC;\n",
              "    }\n",
              "\n",
              "    [theme=dark] .colab-df-convert:hover {\n",
              "      background-color: #434B5C;\n",
              "      box-shadow: 0px 1px 3px 1px rgba(0, 0, 0, 0.15);\n",
              "      filter: drop-shadow(0px 1px 2px rgba(0, 0, 0, 0.3));\n",
              "      fill: #FFFFFF;\n",
              "    }\n",
              "  </style>\n",
              "\n",
              "      <script>\n",
              "        const buttonEl =\n",
              "          document.querySelector('#df-58a878bd-72c7-49bb-90e7-4119b04e3112 button.colab-df-convert');\n",
              "        buttonEl.style.display =\n",
              "          google.colab.kernel.accessAllowed ? 'block' : 'none';\n",
              "\n",
              "        async function convertToInteractive(key) {\n",
              "          const element = document.querySelector('#df-58a878bd-72c7-49bb-90e7-4119b04e3112');\n",
              "          const dataTable =\n",
              "            await google.colab.kernel.invokeFunction('convertToInteractive',\n",
              "                                                     [key], {});\n",
              "          if (!dataTable) return;\n",
              "\n",
              "          const docLinkHtml = 'Like what you see? Visit the ' +\n",
              "            '<a target=\"_blank\" href=https://colab.research.google.com/notebooks/data_table.ipynb>data table notebook</a>'\n",
              "            + ' to learn more about interactive tables.';\n",
              "          element.innerHTML = '';\n",
              "          dataTable['output_type'] = 'display_data';\n",
              "          await google.colab.output.renderOutput(dataTable, element);\n",
              "          const docLink = document.createElement('div');\n",
              "          docLink.innerHTML = docLinkHtml;\n",
              "          element.appendChild(docLink);\n",
              "        }\n",
              "      </script>\n",
              "    </div>\n",
              "  </div>\n",
              "  "
            ]
          },
          "metadata": {},
          "execution_count": 125
        }
      ],
      "source": [
        "df"
      ]
    },
    {
      "cell_type": "code",
      "execution_count": 67,
      "id": "4300800d",
      "metadata": {
        "colab": {
          "base_uri": "https://localhost:8080/"
        },
        "id": "4300800d",
        "outputId": "08508955-1b08-4260-89a0-71db1675bb82"
      },
      "outputs": [
        {
          "output_type": "execute_result",
          "data": {
            "text/plain": [
              "0                NaN\n",
              "1                NaN\n",
              "2                NaN\n",
              "3                NaN\n",
              "4                NaN\n",
              "            ...     \n",
              "3761    88546.981563\n",
              "3762    88525.473047\n",
              "3763    88507.659062\n",
              "3764    88478.086563\n",
              "3765    88455.789062\n",
              "Name: Close, Length: 3766, dtype: float64"
            ]
          },
          "metadata": {},
          "execution_count": 67
        }
      ],
      "source": [
        "ma100 = df.Close.rolling(100).mean()\n",
        "ma100"
      ]
    },
    {
      "cell_type": "code",
      "execution_count": 68,
      "id": "d132baf0",
      "metadata": {
        "colab": {
          "base_uri": "https://localhost:8080/",
          "height": 539
        },
        "id": "d132baf0",
        "outputId": "b3dea0bf-58a4-40af-d811-14ca63bb2a50"
      },
      "outputs": [
        {
          "output_type": "execute_result",
          "data": {
            "text/plain": [
              "[<matplotlib.lines.Line2D at 0x7f0d3bd34e20>]"
            ]
          },
          "metadata": {},
          "execution_count": 68
        },
        {
          "output_type": "display_data",
          "data": {
            "text/plain": [
              "<Figure size 1000x600 with 1 Axes>"
            ],
            "image/png": "[encoded data removed]"
          },
          "metadata": {}
        }
      ],
      "source": [
        "plt.figure(figsize = (10, 6))\n",
        "plt.plot(df.Close)\n",
        "plt.plot(ma100, 'r')"
      ]
    },
    {
      "cell_type": "code",
      "execution_count": 69,
      "id": "304586d7",
      "metadata": {
        "colab": {
          "base_uri": "https://localhost:8080/"
        },
        "id": "304586d7",
        "outputId": "0b50f0b5-1704-47a6-f6ac-55a892f23e73"
      },
      "outputs": [
        {
          "output_type": "execute_result",
          "data": {
            "text/plain": [
              "0                NaN\n",
              "1                NaN\n",
              "2                NaN\n",
              "3                NaN\n",
              "4                NaN\n",
              "            ...     \n",
              "3761    85310.207734\n",
              "3762    85394.352461\n",
              "3763    85475.721992\n",
              "3764    85565.549258\n",
              "3765    85652.372773\n",
              "Name: Close, Length: 3766, dtype: float64"
            ]
          },
          "metadata": {},
          "execution_count": 69
        }
      ],
      "source": [
        "ma200 = df.Close.rolling(200).mean()\n",
        "ma200"
      ]
    },
    {
      "cell_type": "code",
      "execution_count": 70,
      "id": "e39e3f88",
      "metadata": {
        "colab": {
          "base_uri": "https://localhost:8080/",
          "height": 539
        },
        "id": "e39e3f88",
        "outputId": "d1639d87-fe11-4421-ac35-7dc22eb8ee3e"
      },
      "outputs": [
        {
          "output_type": "execute_result",
          "data": {
            "text/plain": [
              "[<matplotlib.lines.Line2D at 0x7f0d3b3fd640>]"
            ]
          },
          "metadata": {},
          "execution_count": 70
        },
        {
          "output_type": "display_data",
          "data": {
            "text/plain": [
              "<Figure size 1000x600 with 1 Axes>"
            ],
            "image/png": "[encoded data removed]"
          },
          "metadata": {}
        }
      ],
      "source": [
        "plt.figure(figsize = (10, 6))\n",
        "plt.plot(df.Close)\n",
        "plt.plot(ma100, 'r')\n",
        "plt.plot(ma200, 'g')"
      ]
    },
    {
      "cell_type": "code",
      "execution_count": 71,
      "id": "dd851043",
      "metadata": {
        "colab": {
          "base_uri": "https://localhost:8080/"
        },
        "id": "dd851043",
        "outputId": "cfa43fcd-3921-4876-896b-7898584e061c"
      },
      "outputs": [
        {
          "output_type": "execute_result",
          "data": {
            "text/plain": [
              "(3766, 5)"
            ]
          },
          "metadata": {},
          "execution_count": 71
        }
      ],
      "source": [
        "df.shape ##Gives rows and columns of df"
      ]
    },
    {
      "cell_type": "code",
      "execution_count": 72,
      "id": "efaae477",
      "metadata": {
        "colab": {
          "base_uri": "https://localhost:8080/"
        },
        "id": "efaae477",
        "outputId": "531a8968-e219-4ee8-e2aa-8bd902a21f4b"
      },
      "outputs": [
        {
          "output_type": "execute_result",
          "data": {
            "text/plain": [
              "(             Close\n",
              " 0      7156.450195\n",
              " 1      7061.649902\n",
              " 2      7047.649902\n",
              " 3      7039.250000\n",
              " 4      7000.000000\n",
              " ...            ...\n",
              " 2631  70352.296875\n",
              " 2632  70830.546875\n",
              " 2633  71251.953125\n",
              " 2634  70506.500000\n",
              " 2635  69769.546875\n",
              " \n",
              " [2636 rows x 1 columns],\n",
              "              Close\n",
              " 2636  69143.351562\n",
              " 2637  70244.296875\n",
              " 2638  69782.296875\n",
              " 2639  68731.351562\n",
              " 2640  67783.398438\n",
              " ...            ...\n",
              " 3761  83949.898438\n",
              " 3762  84005.546875\n",
              " 3763  84398.453125\n",
              " 3764  84617.000000\n",
              " 3765  85456.250000\n",
              " \n",
              " [1130 rows x 1 columns])"
            ]
          },
          "metadata": {},
          "execution_count": 72
        }
      ],
      "source": [
        "#Splitting data into training and testing\n",
        "\n",
        "#from sklearn.model_selection import train_test_split\n",
        "#data_training, data_testing = train_test_split(df.Close, test_size=0.3,random_state=20)\n",
        "#data_training, data_testing\n",
        "\n",
        "data_training = pd.DataFrame(df['Close'][0:int(len(df)*0.70)])\n",
        "\n",
        "data_testing = pd.DataFrame(df['Close'][int(len(df)*0.70): int(len(df))])\n",
        "\n",
        "data_training, data_testing"
      ]
    },
    {
      "cell_type": "code",
      "execution_count": 73,
      "id": "80167b71",
      "metadata": {
        "colab": {
          "base_uri": "https://localhost:8080/"
        },
        "id": "80167b71",
        "outputId": "1af717b0-c292-45db-d6c1-bedc8efeed14"
      },
      "outputs": [
        {
          "output_type": "stream",
          "name": "stdout",
          "text": [
            "(2636, 1)\n",
            "(1130, 1)\n"
          ]
        },
        {
          "output_type": "execute_result",
          "data": {
            "text/plain": [
              "(None, None)"
            ]
          },
          "metadata": {},
          "execution_count": 73
        }
      ],
      "source": [
        "print(data_training.shape), print(data_testing.shape)"
      ]
    },
    {
      "cell_type": "code",
      "execution_count": 74,
      "id": "f20fb86f",
      "metadata": {
        "colab": {
          "base_uri": "https://localhost:8080/",
          "height": 206
        },
        "id": "f20fb86f",
        "outputId": "128c6819-5cef-46a9-f5f7-3eba499a8cdb"
      },
      "outputs": [
        {
          "output_type": "execute_result",
          "data": {
            "text/plain": [
              "         Close\n",
              "0  7156.450195\n",
              "1  7061.649902\n",
              "2  7047.649902\n",
              "3  7039.250000\n",
              "4  7000.000000"
            ],
            "text/html": [
              "\n",
              "  <div id=\"df-f16e3836-5f0c-4734-b45e-1d1fa7940fb3\">\n",
              "    <div class=\"colab-df-container\">\n",
              "      <div>\n",
              "<style scoped>\n",
              "    .dataframe tbody tr th:only-of-type {\n",
              "        vertical-align: middle;\n",
              "    }\n",
              "\n",
              "    .dataframe tbody tr th {\n",
              "        vertical-align: top;\n",
              "    }\n",
              "\n",
              "    .dataframe thead th {\n",
              "        text-align: right;\n",
              "    }\n",
              "</style>\n",
              "<table border=\"1\" class=\"dataframe\">\n",
              "  <thead>\n",
              "    <tr style=\"text-align: right;\">\n",
              "      <th></th>\n",
              "      <th>Close</th>\n",
              "    </tr>\n",
              "  </thead>\n",
              "  <tbody>\n",
              "    <tr>\n",
              "      <th>0</th>\n",
              "      <td>7156.450195</td>\n",
              "    </tr>\n",
              "    <tr>\n",
              "      <th>1</th>\n",
              "      <td>7061.649902</td>\n",
              "    </tr>\n",
              "    <tr>\n",
              "      <th>2</th>\n",
              "      <td>7047.649902</td>\n",
              "    </tr>\n",
              "    <tr>\n",
              "      <th>3</th>\n",
              "      <td>7039.250000</td>\n",
              "    </tr>\n",
              "    <tr>\n",
              "      <th>4</th>\n",
              "      <td>7000.000000</td>\n",
              "    </tr>\n",
              "  </tbody>\n",
              "</table>\n",
              "</div>\n",
              "      <button class=\"colab-df-convert\" onclick=\"convertToInteractive('df-f16e3836-5f0c-4734-b45e-1d1fa7940fb3')\"\n",
              "              title=\"Convert this dataframe to an interactive table.\"\n",
              "              style=\"display:none;\">\n",
              "        \n",
              "  <svg xmlns=\"http://www.w3.org/2000/svg\" height=\"24px\"viewBox=\"0 0 24 24\"\n",
              "       width=\"24px\">\n",
              "    <path d=\"M0 0h24v24H0V0z\" fill=\"none\"/>\n",
              "    <path d=\"M18.56 5.44l.94 2.06.94-2.06 2.06-.94-2.06-.94-.94-2.06-.94 2.06-2.06.94zm-11 1L8.5 8.5l.94-2.06 2.06-.94-2.06-.94L8.5 2.5l-.94 2.06-2.06.94zm10 10l.94 2.06.94-2.06 2.06-.94-2.06-.94-.94-2.06-.94 2.06-2.06.94z\"/><path d=\"M17.41 7.96l-1.37-1.37c-.4-.4-.92-.59-1.43-.59-.52 0-1.04.2-1.43.59L10.3 9.45l-7.72 7.72c-.78.78-.78 2.05 0 2.83L4 21.41c.39.39.9.59 1.41.59.51 0 1.02-.2 1.41-.59l7.78-7.78 2.81-2.81c.8-.78.8-2.07 0-2.86zM5.41 20L4 18.59l7.72-7.72 1.47 1.35L5.41 20z\"/>\n",
              "  </svg>\n",
              "      </button>\n",
              "      \n",
              "  <style>\n",
              "    .colab-df-container {\n",
              "      display:flex;\n",
              "      flex-wrap:wrap;\n",
              "      gap: 12px;\n",
              "    }\n",
              "\n",
              "    .colab-df-convert {\n",
              "      background-color: #E8F0FE;\n",
              "      border: none;\n",
              "      border-radius: 50%;\n",
              "      cursor: pointer;\n",
              "      display: none;\n",
              "      fill: #1967D2;\n",
              "      height: 32px;\n",
              "      padding: 0 0 0 0;\n",
              "      width: 32px;\n",
              "    }\n",
              "\n",
              "    .colab-df-convert:hover {\n",
              "      background-color: #E2EBFA;\n",
              "      box-shadow: 0px 1px 2px rgba(60, 64, 67, 0.3), 0px 1px 3px 1px rgba(60, 64, 67, 0.15);\n",
              "      fill: #174EA6;\n",
              "    }\n",
              "\n",
              "    [theme=dark] .colab-df-convert {\n",
              "      background-color: #3B4455;\n",
              "      fill: #D2E3FC;\n",
              "    }\n",
              "\n",
              "    [theme=dark] .colab-df-convert:hover {\n",
              "      background-color: #434B5C;\n",
              "      box-shadow: 0px 1px 3px 1px rgba(0, 0, 0, 0.15);\n",
              "      filter: drop-shadow(0px 1px 2px rgba(0, 0, 0, 0.3));\n",
              "      fill: #FFFFFF;\n",
              "    }\n",
              "  </style>\n",
              "\n",
              "      <script>\n",
              "        const buttonEl =\n",
              "          document.querySelector('#df-f16e3836-5f0c-4734-b45e-1d1fa7940fb3 button.colab-df-convert');\n",
              "        buttonEl.style.display =\n",
              "          google.colab.kernel.accessAllowed ? 'block' : 'none';\n",
              "\n",
              "        async function convertToInteractive(key) {\n",
              "          const element = document.querySelector('#df-f16e3836-5f0c-4734-b45e-1d1fa7940fb3');\n",
              "          const dataTable =\n",
              "            await google.colab.kernel.invokeFunction('convertToInteractive',\n",
              "                                                     [key], {});\n",
              "          if (!dataTable) return;\n",
              "\n",
              "          const docLinkHtml = 'Like what you see? Visit the ' +\n",
              "            '<a target=\"_blank\" href=https://colab.research.google.com/notebooks/data_table.ipynb>data table notebook</a>'\n",
              "            + ' to learn more about interactive tables.';\n",
              "          element.innerHTML = '';\n",
              "          dataTable['output_type'] = 'display_data';\n",
              "          await google.colab.output.renderOutput(dataTable, element);\n",
              "          const docLink = document.createElement('div');\n",
              "          docLink.innerHTML = docLinkHtml;\n",
              "          element.appendChild(docLink);\n",
              "        }\n",
              "      </script>\n",
              "    </div>\n",
              "  </div>\n",
              "  "
            ]
          },
          "metadata": {},
          "execution_count": 74
        }
      ],
      "source": [
        "data_training.head()"
      ]
    },
    {
      "cell_type": "code",
      "execution_count": 75,
      "id": "a0f11952",
      "metadata": {
        "colab": {
          "base_uri": "https://localhost:8080/",
          "height": 206
        },
        "id": "a0f11952",
        "outputId": "dead3e4b-9d80-439b-e3ff-9e2324e5f7a0"
      },
      "outputs": [
        {
          "output_type": "execute_result",
          "data": {
            "text/plain": [
              "             Close\n",
              "2636  69143.351562\n",
              "2637  70244.296875\n",
              "2638  69782.296875\n",
              "2639  68731.351562\n",
              "2640  67783.398438"
            ],
            "text/html": [
              "\n",
              "  <div id=\"df-572f6410-7751-49ff-a33e-0508ebf5a8b5\">\n",
              "    <div class=\"colab-df-container\">\n",
              "      <div>\n",
              "<style scoped>\n",
              "    .dataframe tbody tr th:only-of-type {\n",
              "        vertical-align: middle;\n",
              "    }\n",
              "\n",
              "    .dataframe tbody tr th {\n",
              "        vertical-align: top;\n",
              "    }\n",
              "\n",
              "    .dataframe thead th {\n",
              "        text-align: right;\n",
              "    }\n",
              "</style>\n",
              "<table border=\"1\" class=\"dataframe\">\n",
              "  <thead>\n",
              "    <tr style=\"text-align: right;\">\n",
              "      <th></th>\n",
              "      <th>Close</th>\n",
              "    </tr>\n",
              "  </thead>\n",
              "  <tbody>\n",
              "    <tr>\n",
              "      <th>2636</th>\n",
              "      <td>69143.351562</td>\n",
              "    </tr>\n",
              "    <tr>\n",
              "      <th>2637</th>\n",
              "      <td>70244.296875</td>\n",
              "    </tr>\n",
              "    <tr>\n",
              "      <th>2638</th>\n",
              "      <td>69782.296875</td>\n",
              "    </tr>\n",
              "    <tr>\n",
              "      <th>2639</th>\n",
              "      <td>68731.351562</td>\n",
              "    </tr>\n",
              "    <tr>\n",
              "      <th>2640</th>\n",
              "      <td>67783.398438</td>\n",
              "    </tr>\n",
              "  </tbody>\n",
              "</table>\n",
              "</div>\n",
              "      <button class=\"colab-df-convert\" onclick=\"convertToInteractive('df-572f6410-7751-49ff-a33e-0508ebf5a8b5')\"\n",
              "              title=\"Convert this dataframe to an interactive table.\"\n",
              "              style=\"display:none;\">\n",
              "        \n",
              "  <svg xmlns=\"http://www.w3.org/2000/svg\" height=\"24px\"viewBox=\"0 0 24 24\"\n",
              "       width=\"24px\">\n",
              "    <path d=\"M0 0h24v24H0V0z\" fill=\"none\"/>\n",
              "    <path d=\"M18.56 5.44l.94 2.06.94-2.06 2.06-.94-2.06-.94-.94-2.06-.94 2.06-2.06.94zm-11 1L8.5 8.5l.94-2.06 2.06-.94-2.06-.94L8.5 2.5l-.94 2.06-2.06.94zm10 10l.94 2.06.94-2.06 2.06-.94-2.06-.94-.94-2.06-.94 2.06-2.06.94z\"/><path d=\"M17.41 7.96l-1.37-1.37c-.4-.4-.92-.59-1.43-.59-.52 0-1.04.2-1.43.59L10.3 9.45l-7.72 7.72c-.78.78-.78 2.05 0 2.83L4 21.41c.39.39.9.59 1.41.59.51 0 1.02-.2 1.41-.59l7.78-7.78 2.81-2.81c.8-.78.8-2.07 0-2.86zM5.41 20L4 18.59l7.72-7.72 1.47 1.35L5.41 20z\"/>\n",
              "  </svg>\n",
              "      </button>\n",
              "      \n",
              "  <style>\n",
              "    .colab-df-container {\n",
              "      display:flex;\n",
              "      flex-wrap:wrap;\n",
              "      gap: 12px;\n",
              "    }\n",
              "\n",
              "    .colab-df-convert {\n",
              "      background-color: #E8F0FE;\n",
              "      border: none;\n",
              "      border-radius: 50%;\n",
              "      cursor: pointer;\n",
              "      display: none;\n",
              "      fill: #1967D2;\n",
              "      height: 32px;\n",
              "      padding: 0 0 0 0;\n",
              "      width: 32px;\n",
              "    }\n",
              "\n",
              "    .colab-df-convert:hover {\n",
              "      background-color: #E2EBFA;\n",
              "      box-shadow: 0px 1px 2px rgba(60, 64, 67, 0.3), 0px 1px 3px 1px rgba(60, 64, 67, 0.15);\n",
              "      fill: #174EA6;\n",
              "    }\n",
              "\n",
              "    [theme=dark] .colab-df-convert {\n",
              "      background-color: #3B4455;\n",
              "      fill: #D2E3FC;\n",
              "    }\n",
              "\n",
              "    [theme=dark] .colab-df-convert:hover {\n",
              "      background-color: #434B5C;\n",
              "      box-shadow: 0px 1px 3px 1px rgba(0, 0, 0, 0.15);\n",
              "      filter: drop-shadow(0px 1px 2px rgba(0, 0, 0, 0.3));\n",
              "      fill: #FFFFFF;\n",
              "    }\n",
              "  </style>\n",
              "\n",
              "      <script>\n",
              "        const buttonEl =\n",
              "          document.querySelector('#df-572f6410-7751-49ff-a33e-0508ebf5a8b5 button.colab-df-convert');\n",
              "        buttonEl.style.display =\n",
              "          google.colab.kernel.accessAllowed ? 'block' : 'none';\n",
              "\n",
              "        async function convertToInteractive(key) {\n",
              "          const element = document.querySelector('#df-572f6410-7751-49ff-a33e-0508ebf5a8b5');\n",
              "          const dataTable =\n",
              "            await google.colab.kernel.invokeFunction('convertToInteractive',\n",
              "                                                     [key], {});\n",
              "          if (!dataTable) return;\n",
              "\n",
              "          const docLinkHtml = 'Like what you see? Visit the ' +\n",
              "            '<a target=\"_blank\" href=https://colab.research.google.com/notebooks/data_table.ipynb>data table notebook</a>'\n",
              "            + ' to learn more about interactive tables.';\n",
              "          element.innerHTML = '';\n",
              "          dataTable['output_type'] = 'display_data';\n",
              "          await google.colab.output.renderOutput(dataTable, element);\n",
              "          const docLink = document.createElement('div');\n",
              "          docLink.innerHTML = docLinkHtml;\n",
              "          element.appendChild(docLink);\n",
              "        }\n",
              "      </script>\n",
              "    </div>\n",
              "  </div>\n",
              "  "
            ]
          },
          "metadata": {},
          "execution_count": 75
        }
      ],
      "source": [
        "data_testing.head()"
      ]
    },
    {
      "cell_type": "code",
      "execution_count": 76,
      "id": "66e8e89c",
      "metadata": {
        "id": "66e8e89c"
      },
      "outputs": [],
      "source": [
        "from sklearn.preprocessing import MinMaxScaler\n",
        "scaler = MinMaxScaler(feature_range = (0,1))"
      ]
    },
    {
      "cell_type": "code",
      "execution_count": 77,
      "id": "21b31ed8",
      "metadata": {
        "colab": {
          "base_uri": "https://localhost:8080/"
        },
        "id": "21b31ed8",
        "outputId": "e2ba1422-8b27-47f5-b6f0-c70765a1078c"
      },
      "outputs": [
        {
          "output_type": "execute_result",
          "data": {
            "text/plain": [
              "array([[0.07092773],\n",
              "       [0.06973273],\n",
              "       [0.06955625],\n",
              "       ...,\n",
              "       [0.87888051],\n",
              "       [0.86948374],\n",
              "       [0.86019411]])"
            ]
          },
          "metadata": {},
          "execution_count": 77
        }
      ],
      "source": [
        "data_training_array = scaler.fit_transform(data_training)\n",
        "data_training_array"
      ]
    },
    {
      "cell_type": "code",
      "execution_count": 78,
      "id": "a72ec213",
      "metadata": {
        "colab": {
          "base_uri": "https://localhost:8080/"
        },
        "id": "a72ec213",
        "outputId": "a10f8863-78d9-4ed5-9957-44f970e3f22f"
      },
      "outputs": [
        {
          "output_type": "execute_result",
          "data": {
            "text/plain": [
              "(2636, 1)"
            ]
          },
          "metadata": {},
          "execution_count": 78
        }
      ],
      "source": [
        "data_training_array.shape"
      ]
    },
    {
      "cell_type": "code",
      "execution_count": 79,
      "id": "b95a4037",
      "metadata": {
        "id": "b95a4037"
      },
      "outputs": [],
      "source": [
        "x_train = []\n",
        "y_train = []\n",
        "\n",
        "for i in range(100, data_training_array.shape[0]):\n",
        "    x_train.append(data_training_array[i-100: i])\n",
        "    y_train.append(data_training_array[i, 0])\n",
        "    \n",
        "x_train, y_train = np.array(x_train), np.array(y_train)\n",
        "\n",
        "#the shape of x_train will be (n-100, 100, 1). The first dimension (n-100) represents the number of input sequences, \n",
        "#which is equal to the number of sliding windows of size 100 that can be created from the training data. \n",
        "#The second dimension 100 represents the length of each input sequence, which contains the previous 100 time steps.\n",
        "#The third dimension 1 represents the number of features in each time step, which in this case is just the stock price.\n",
        "#So, the overall shape of x_train will be (number of input sequences, length of input sequences, number of features)."
      ]
    },
    {
      "cell_type": "code",
      "execution_count": 80,
      "id": "0e1712f4",
      "metadata": {
        "colab": {
          "base_uri": "https://localhost:8080/"
        },
        "id": "0e1712f4",
        "outputId": "cb6c5c4b-e80d-4b88-c15a-7ecf4d5728ef"
      },
      "outputs": [
        {
          "output_type": "execute_result",
          "data": {
            "text/plain": [
              "((2536, 100, 1), (2536,))"
            ]
          },
          "metadata": {},
          "execution_count": 80
        }
      ],
      "source": [
        "x_train.shape,y_train.shape"
      ]
    },
    {
      "cell_type": "code",
      "execution_count": 81,
      "id": "a33334d3",
      "metadata": {
        "colab": {
          "base_uri": "https://localhost:8080/"
        },
        "id": "a33334d3",
        "outputId": "8c4efcad-4dc7-4e27-f76e-0e5f291335ae"
      },
      "outputs": [
        {
          "output_type": "stream",
          "name": "stderr",
          "text": [
            "<ipython-input-81-7adde6176889>:2: FutureWarning: The frame.append method is deprecated and will be removed from pandas in a future version. Use pandas.concat instead.\n",
            "  final_df = past_100_days.append(data_testing, ignore_index = True)\n"
          ]
        }
      ],
      "source": [
        "past_100_days = data_training.tail(100)\n",
        "final_df = past_100_days.append(data_testing, ignore_index = True)\n",
        "val_data = scaler.fit_transform(final_df)\n",
        "\n",
        "x_val = []\n",
        "y_val = []\n",
        "\n",
        "for i in range(100, val_data.shape[0]):\n",
        "    x_val.append(val_data[i-100: i])\n",
        "    y_val.append(val_data[i, 0])\n",
        "    \n",
        "x_val, y_val = np.array(x_val), np.array(y_val)"
      ]
    },
    {
      "cell_type": "code",
      "execution_count": 82,
      "id": "8d040872",
      "metadata": {
        "colab": {
          "base_uri": "https://localhost:8080/"
        },
        "id": "8d040872",
        "outputId": "200a920f-83fb-43b1-bc27-bb638dcb45c1"
      },
      "outputs": [
        {
          "output_type": "execute_result",
          "data": {
            "text/plain": [
              "((1130, 100, 1), (1130,))"
            ]
          },
          "metadata": {},
          "execution_count": 82
        }
      ],
      "source": [
        "x_val.shape ,y_val.shape"
      ]
    },
    {
      "cell_type": "code",
      "execution_count": 84,
      "id": "ae8c5b00",
      "metadata": {
        "id": "ae8c5b00"
      },
      "outputs": [],
      "source": [
        "#ML Model\n",
        "from tensorflow import keras\n",
        "from keras.layers import Dense, Dropout, LSTM\n",
        "from keras.models import Sequential\n",
        "from tensorflow.keras.callbacks import EarlyStopping"
      ]
    },
    {
      "cell_type": "code",
      "execution_count": 85,
      "id": "bc5c42bd",
      "metadata": {
        "id": "bc5c42bd"
      },
      "outputs": [],
      "source": [
        "#To discover the training epoch on which training was stopped, the “verbose” argument can be set to 2.\n",
        "early_stop=EarlyStopping(monitor=\"val_loss\",verbose=1,mode='min',patience=8)\n",
        "\n",
        "#The EarlyStopping callback is used to stop the training of a neural network model when a monitored metric\n",
        "#(such as validation loss) stops improving for a certain number of epochs (specified by the patience parameter).\n",
        "\n",
        "#For example, if patience=10, then training will be stopped if the validation loss does not improve for 10 \n",
        "#consecutive epochs. If the validation loss does improve, then the counter is reset to zero.\n",
        "\n",
        "# Define the model architecture\n",
        "model = Sequential()\n",
        "model.add(LSTM(units=100, activation='relu', return_sequences=True, input_shape=(x_train.shape[1], 1)))\n",
        "model.add(LSTM(units=75, activation='relu', return_sequences=True))\n",
        "model.add(LSTM(units=50, activation='relu', return_sequences=True))\n",
        "model.add(LSTM(units=25, activation='relu'))\n",
        "model.add(Dense(units=1))"
      ]
    },
    {
      "cell_type": "code",
      "execution_count": 86,
      "id": "6850aeac",
      "metadata": {
        "colab": {
          "base_uri": "https://localhost:8080/"
        },
        "id": "6850aeac",
        "outputId": "dacb4d35-d766-4951-916a-256c30700b92"
      },
      "outputs": [
        {
          "output_type": "stream",
          "name": "stdout",
          "text": [
            "Epoch 1/75\n",
            "80/80 [==============================] - 37s 328ms/step - loss: 2.0583 - accuracy: 3.9432e-04 - val_loss: 0.0666 - val_accuracy: 8.8496e-04\n",
            "Epoch 2/75\n",
            "80/80 [==============================] - 25s 319ms/step - loss: 0.0104 - accuracy: 7.8864e-04 - val_loss: 0.0118 - val_accuracy: 0.0018\n",
            "Epoch 3/75\n",
            "80/80 [==============================] - 25s 318ms/step - loss: 0.0016 - accuracy: 7.8864e-04 - val_loss: 0.0113 - val_accuracy: 0.0018\n",
            "Epoch 4/75\n",
            "80/80 [==============================] - 25s 315ms/step - loss: 0.0014 - accuracy: 7.8864e-04 - val_loss: 0.0111 - val_accuracy: 0.0018\n",
            "Epoch 5/75\n",
            "80/80 [==============================] - 25s 318ms/step - loss: 0.0013 - accuracy: 7.8864e-04 - val_loss: 0.0107 - val_accuracy: 0.0018\n",
            "Epoch 6/75\n",
            "80/80 [==============================] - 25s 317ms/step - loss: 0.0012 - accuracy: 7.8864e-04 - val_loss: 0.0105 - val_accuracy: 0.0018\n",
            "Epoch 7/75\n",
            "80/80 [==============================] - 25s 314ms/step - loss: 0.0011 - accuracy: 7.8864e-04 - val_loss: 0.0101 - val_accuracy: 0.0018\n",
            "Epoch 8/75\n",
            "80/80 [==============================] - 25s 318ms/step - loss: 0.0010 - accuracy: 7.8864e-04 - val_loss: 0.0096 - val_accuracy: 0.0018\n",
            "Epoch 9/75\n",
            "80/80 [==============================] - 25s 318ms/step - loss: 9.5948e-04 - accuracy: 7.8864e-04 - val_loss: 0.0092 - val_accuracy: 0.0018\n",
            "Epoch 10/75\n",
            "80/80 [==============================] - 25s 318ms/step - loss: 9.2803e-04 - accuracy: 7.8864e-04 - val_loss: 0.0089 - val_accuracy: 0.0018\n",
            "Epoch 11/75\n",
            "80/80 [==============================] - 25s 315ms/step - loss: 8.8210e-04 - accuracy: 7.8864e-04 - val_loss: 0.0085 - val_accuracy: 0.0018\n",
            "Epoch 12/75\n",
            "80/80 [==============================] - 28s 346ms/step - loss: 7.9808e-04 - accuracy: 7.8864e-04 - val_loss: 0.0082 - val_accuracy: 0.0018\n",
            "Epoch 13/75\n",
            "80/80 [==============================] - 25s 318ms/step - loss: 7.7099e-04 - accuracy: 7.8864e-04 - val_loss: 0.0080 - val_accuracy: 0.0018\n",
            "Epoch 14/75\n",
            "80/80 [==============================] - 25s 318ms/step - loss: 7.7669e-04 - accuracy: 7.8864e-04 - val_loss: 0.0079 - val_accuracy: 0.0018\n",
            "Epoch 15/75\n",
            "80/80 [==============================] - 25s 316ms/step - loss: 7.4459e-04 - accuracy: 7.8864e-04 - val_loss: 0.0081 - val_accuracy: 0.0018\n",
            "Epoch 16/75\n",
            "80/80 [==============================] - 27s 343ms/step - loss: 6.9806e-04 - accuracy: 7.8864e-04 - val_loss: 0.0072 - val_accuracy: 0.0018\n",
            "Epoch 17/75\n",
            "80/80 [==============================] - 25s 316ms/step - loss: 6.3299e-04 - accuracy: 7.8864e-04 - val_loss: 0.0065 - val_accuracy: 0.0018\n",
            "Epoch 18/75\n",
            "80/80 [==============================] - 25s 315ms/step - loss: 5.8691e-04 - accuracy: 7.8864e-04 - val_loss: 0.0058 - val_accuracy: 0.0018\n",
            "Epoch 19/75\n",
            "80/80 [==============================] - 27s 339ms/step - loss: 5.5922e-04 - accuracy: 7.8864e-04 - val_loss: 0.0055 - val_accuracy: 0.0018\n",
            "Epoch 20/75\n",
            "80/80 [==============================] - 25s 318ms/step - loss: 5.2547e-04 - accuracy: 7.8864e-04 - val_loss: 0.0073 - val_accuracy: 0.0018\n",
            "Epoch 21/75\n",
            "80/80 [==============================] - 25s 314ms/step - loss: 6.1706e-04 - accuracy: 7.8864e-04 - val_loss: 0.0068 - val_accuracy: 0.0018\n",
            "Epoch 22/75\n",
            "80/80 [==============================] - 25s 314ms/step - loss: 5.5570e-04 - accuracy: 7.8864e-04 - val_loss: 0.0063 - val_accuracy: 0.0018\n",
            "Epoch 23/75\n",
            "80/80 [==============================] - 25s 311ms/step - loss: 5.1025e-04 - accuracy: 7.8864e-04 - val_loss: 0.0059 - val_accuracy: 0.0018\n",
            "Epoch 24/75\n",
            "80/80 [==============================] - 27s 335ms/step - loss: 4.7995e-04 - accuracy: 7.8864e-04 - val_loss: 0.0055 - val_accuracy: 0.0018\n",
            "Epoch 25/75\n",
            "80/80 [==============================] - 27s 337ms/step - loss: 5.2520e-04 - accuracy: 7.8864e-04 - val_loss: 0.0053 - val_accuracy: 0.0018\n",
            "Epoch 26/75\n",
            "80/80 [==============================] - 27s 345ms/step - loss: 4.4752e-04 - accuracy: 7.8864e-04 - val_loss: 0.0048 - val_accuracy: 0.0018\n",
            "Epoch 27/75\n",
            "80/80 [==============================] - 25s 316ms/step - loss: 4.5244e-04 - accuracy: 7.8864e-04 - val_loss: 0.0048 - val_accuracy: 0.0018\n",
            "Epoch 28/75\n",
            "80/80 [==============================] - 25s 316ms/step - loss: 4.2770e-04 - accuracy: 7.8864e-04 - val_loss: 0.0047 - val_accuracy: 0.0018\n",
            "Epoch 29/75\n",
            "80/80 [==============================] - 25s 314ms/step - loss: 4.2478e-04 - accuracy: 7.8864e-04 - val_loss: 0.0042 - val_accuracy: 0.0018\n",
            "Epoch 30/75\n",
            "80/80 [==============================] - 25s 313ms/step - loss: 3.7801e-04 - accuracy: 7.8864e-04 - val_loss: 0.0041 - val_accuracy: 0.0018\n",
            "Epoch 31/75\n",
            "80/80 [==============================] - 27s 335ms/step - loss: 3.4519e-04 - accuracy: 7.8864e-04 - val_loss: 0.0039 - val_accuracy: 0.0018\n",
            "Epoch 32/75\n",
            "80/80 [==============================] - 27s 342ms/step - loss: 3.2792e-04 - accuracy: 7.8864e-04 - val_loss: 0.0038 - val_accuracy: 0.0018\n",
            "Epoch 33/75\n",
            "80/80 [==============================] - 25s 318ms/step - loss: 3.0561e-04 - accuracy: 7.8864e-04 - val_loss: 0.0039 - val_accuracy: 0.0018\n",
            "Epoch 34/75\n",
            "80/80 [==============================] - 25s 317ms/step - loss: 3.1166e-04 - accuracy: 7.8864e-04 - val_loss: 0.0034 - val_accuracy: 0.0018\n",
            "Epoch 35/75\n",
            "80/80 [==============================] - 27s 342ms/step - loss: 2.7496e-04 - accuracy: 7.8864e-04 - val_loss: 0.0033 - val_accuracy: 0.0018\n",
            "Epoch 36/75\n",
            "80/80 [==============================] - 25s 318ms/step - loss: 2.6954e-04 - accuracy: 7.8864e-04 - val_loss: 0.0034 - val_accuracy: 0.0018\n",
            "Epoch 37/75\n",
            "80/80 [==============================] - 25s 318ms/step - loss: 2.3412e-04 - accuracy: 7.8864e-04 - val_loss: 0.0031 - val_accuracy: 0.0018\n",
            "Epoch 38/75\n",
            "80/80 [==============================] - 25s 315ms/step - loss: 2.5216e-04 - accuracy: 7.8864e-04 - val_loss: 0.0030 - val_accuracy: 0.0018\n",
            "Epoch 39/75\n",
            "80/80 [==============================] - 27s 339ms/step - loss: 2.2313e-04 - accuracy: 7.8864e-04 - val_loss: 0.0030 - val_accuracy: 0.0018\n",
            "Epoch 40/75\n",
            "80/80 [==============================] - 25s 315ms/step - loss: 2.4524e-04 - accuracy: 7.8864e-04 - val_loss: 0.0030 - val_accuracy: 0.0018\n",
            "Epoch 41/75\n",
            "80/80 [==============================] - 25s 314ms/step - loss: 2.4383e-04 - accuracy: 7.8864e-04 - val_loss: 0.0028 - val_accuracy: 0.0018\n",
            "Epoch 42/75\n",
            "80/80 [==============================] - 27s 339ms/step - loss: 2.0290e-04 - accuracy: 7.8864e-04 - val_loss: 0.0028 - val_accuracy: 0.0018\n",
            "Epoch 43/75\n",
            "80/80 [==============================] - 25s 315ms/step - loss: 1.9176e-04 - accuracy: 7.8864e-04 - val_loss: 0.0028 - val_accuracy: 0.0018\n",
            "Epoch 44/75\n",
            "80/80 [==============================] - 27s 341ms/step - loss: 2.1301e-04 - accuracy: 7.8864e-04 - val_loss: 0.0026 - val_accuracy: 0.0018\n",
            "Epoch 45/75\n",
            "80/80 [==============================] - 25s 317ms/step - loss: 1.6687e-04 - accuracy: 7.8864e-04 - val_loss: 0.0025 - val_accuracy: 0.0018\n",
            "Epoch 46/75\n",
            "80/80 [==============================] - 25s 317ms/step - loss: 1.7148e-04 - accuracy: 7.8864e-04 - val_loss: 0.0024 - val_accuracy: 0.0018\n",
            "Epoch 47/75\n",
            "80/80 [==============================] - 27s 344ms/step - loss: 1.8988e-04 - accuracy: 7.8864e-04 - val_loss: 0.0028 - val_accuracy: 0.0018\n",
            "Epoch 48/75\n",
            "80/80 [==============================] - 26s 320ms/step - loss: 1.6946e-04 - accuracy: 7.8864e-04 - val_loss: 0.0023 - val_accuracy: 0.0018\n",
            "Epoch 49/75\n",
            "80/80 [==============================] - 25s 319ms/step - loss: 1.6205e-04 - accuracy: 7.8864e-04 - val_loss: 0.0024 - val_accuracy: 0.0018\n",
            "Epoch 50/75\n",
            "80/80 [==============================] - 25s 319ms/step - loss: 1.7310e-04 - accuracy: 7.8864e-04 - val_loss: 0.0023 - val_accuracy: 0.0018\n",
            "Epoch 51/75\n",
            "80/80 [==============================] - 28s 349ms/step - loss: 1.5137e-04 - accuracy: 7.8864e-04 - val_loss: 0.0021 - val_accuracy: 0.0018\n",
            "Epoch 52/75\n",
            "80/80 [==============================] - 25s 317ms/step - loss: 1.4218e-04 - accuracy: 7.8864e-04 - val_loss: 0.0021 - val_accuracy: 0.0018\n",
            "Epoch 53/75\n",
            "80/80 [==============================] - 26s 320ms/step - loss: 1.3990e-04 - accuracy: 7.8864e-04 - val_loss: 0.0021 - val_accuracy: 0.0018\n",
            "Epoch 54/75\n",
            "80/80 [==============================] - 25s 316ms/step - loss: 1.4648e-04 - accuracy: 7.8864e-04 - val_loss: 0.0022 - val_accuracy: 0.0018\n",
            "Epoch 55/75\n",
            "80/80 [==============================] - 28s 345ms/step - loss: 1.4748e-04 - accuracy: 7.8864e-04 - val_loss: 0.0020 - val_accuracy: 0.0018\n",
            "Epoch 56/75\n",
            "80/80 [==============================] - 25s 316ms/step - loss: 1.9776e-04 - accuracy: 7.8864e-04 - val_loss: 0.0022 - val_accuracy: 0.0018\n",
            "Epoch 57/75\n",
            "80/80 [==============================] - 25s 316ms/step - loss: 1.4629e-04 - accuracy: 7.8864e-04 - val_loss: 0.0020 - val_accuracy: 0.0018\n",
            "Epoch 58/75\n",
            "80/80 [==============================] - 28s 348ms/step - loss: 1.2645e-04 - accuracy: 7.8864e-04 - val_loss: 0.0019 - val_accuracy: 0.0018\n",
            "Epoch 59/75\n",
            "80/80 [==============================] - 25s 319ms/step - loss: 1.2978e-04 - accuracy: 7.8864e-04 - val_loss: 0.0018 - val_accuracy: 0.0018\n",
            "Epoch 60/75\n",
            "80/80 [==============================] - 26s 321ms/step - loss: 1.3916e-04 - accuracy: 7.8864e-04 - val_loss: 0.0019 - val_accuracy: 0.0018\n",
            "Epoch 61/75\n",
            "80/80 [==============================] - 25s 317ms/step - loss: 1.1838e-04 - accuracy: 7.8864e-04 - val_loss: 0.0018 - val_accuracy: 0.0018\n",
            "Epoch 62/75\n",
            "80/80 [==============================] - 25s 316ms/step - loss: 1.2505e-04 - accuracy: 7.8864e-04 - val_loss: 0.0018 - val_accuracy: 0.0018\n",
            "Epoch 63/75\n",
            "80/80 [==============================] - 25s 316ms/step - loss: 1.1527e-04 - accuracy: 7.8864e-04 - val_loss: 0.0018 - val_accuracy: 0.0018\n",
            "Epoch 64/75\n",
            "80/80 [==============================] - 27s 339ms/step - loss: 1.3067e-04 - accuracy: 7.8864e-04 - val_loss: 0.0018 - val_accuracy: 0.0018\n",
            "Epoch 65/75\n",
            "80/80 [==============================] - 25s 318ms/step - loss: 1.0934e-04 - accuracy: 7.8864e-04 - val_loss: 0.0016 - val_accuracy: 0.0018\n",
            "Epoch 66/75\n",
            "80/80 [==============================] - 25s 315ms/step - loss: 1.1737e-04 - accuracy: 7.8864e-04 - val_loss: 0.0017 - val_accuracy: 0.0018\n",
            "Epoch 67/75\n",
            "80/80 [==============================] - 25s 313ms/step - loss: 1.2419e-04 - accuracy: 7.8864e-04 - val_loss: 0.0018 - val_accuracy: 0.0018\n",
            "Epoch 68/75\n",
            "80/80 [==============================] - 27s 337ms/step - loss: 1.0965e-04 - accuracy: 7.8864e-04 - val_loss: 0.0017 - val_accuracy: 0.0018\n",
            "Epoch 69/75\n",
            "80/80 [==============================] - 27s 338ms/step - loss: 1.0512e-04 - accuracy: 7.8864e-04 - val_loss: 0.0016 - val_accuracy: 0.0018\n",
            "Epoch 70/75\n",
            "80/80 [==============================] - 28s 345ms/step - loss: 1.0154e-04 - accuracy: 7.8864e-04 - val_loss: 0.0016 - val_accuracy: 0.0018\n",
            "Epoch 71/75\n",
            "80/80 [==============================] - 25s 317ms/step - loss: 1.3374e-04 - accuracy: 7.8864e-04 - val_loss: 0.0017 - val_accuracy: 0.0018\n",
            "Epoch 72/75\n",
            "80/80 [==============================] - 25s 315ms/step - loss: 9.2591e-05 - accuracy: 7.8864e-04 - val_loss: 0.0016 - val_accuracy: 0.0018\n",
            "Epoch 73/75\n",
            "80/80 [==============================] - 25s 315ms/step - loss: 1.2362e-04 - accuracy: 7.8864e-04 - val_loss: 0.0015 - val_accuracy: 0.0018\n",
            "Epoch 74/75\n",
            "80/80 [==============================] - 28s 347ms/step - loss: 1.2300e-04 - accuracy: 7.8864e-04 - val_loss: 0.0016 - val_accuracy: 0.0018\n",
            "Epoch 75/75\n",
            "80/80 [==============================] - 25s 318ms/step - loss: 1.0222e-04 - accuracy: 7.8864e-04 - val_loss: 0.0015 - val_accuracy: 0.0018\n"
          ]
        },
        {
          "output_type": "execute_result",
          "data": {
            "text/plain": [
              "<keras.callbacks.History at 0x7f0d3b2ba6d0>"
            ]
          },
          "metadata": {},
          "execution_count": 86
        }
      ],
      "source": [
        "# Compile the model\n",
        "model.compile(optimizer='adam', loss='mean_squared_error', metrics=['accuracy'])\n",
        "#It is designed to automatically adapt the learning rate during training, allowing it to converge \n",
        "#faster and more efficiently than traditional stochastic gradient descent methods.If the learning rate never converges,\n",
        "#it means that the model is not able to find a set of optimal weights that result in minimum loss.\n",
        "\n",
        "# Fit the model with the EarlyStopping callback\n",
        "model.fit(x_train, y_train, epochs=75, validation_data=(x_val, y_val), callbacks=[early_stop])\n"
      ]
    },
    {
      "cell_type": "code",
      "execution_count": 126,
      "id": "c9ad4732",
      "metadata": {
        "colab": {
          "base_uri": "https://localhost:8080/",
          "height": 200
        },
        "id": "c9ad4732",
        "outputId": "7ce917d9-689f-4529-fa5f-ebba5a1c391d"
      },
      "outputs": [
        {
          "output_type": "error",
          "ename": "KeyError",
          "evalue": "ignored",
          "traceback": [
            "\u001b[0;31m---------------------------------------------------------------------------\u001b[0m",
            "\u001b[0;31mKeyError\u001b[0m                                  Traceback (most recent call last)",
            "\u001b[0;32m<ipython-input-126-c56f48ef7ce5>\u001b[0m in \u001b[0;36m<cell line: 1>\u001b[0;34m()\u001b[0m\n\u001b[0;32m----> 1\u001b[0;31m \u001b[0mplt\u001b[0m\u001b[0;34m.\u001b[0m\u001b[0mplot\u001b[0m\u001b[0;34m(\u001b[0m\u001b[0mmodel\u001b[0m\u001b[0;34m.\u001b[0m\u001b[0mhistory\u001b[0m\u001b[0;34m.\u001b[0m\u001b[0mhistory\u001b[0m\u001b[0;34m[\u001b[0m\u001b[0;34m'accuracy'\u001b[0m\u001b[0;34m]\u001b[0m\u001b[0;34m)\u001b[0m\u001b[0;34m\u001b[0m\u001b[0;34m\u001b[0m\u001b[0m\n\u001b[0m\u001b[1;32m      2\u001b[0m \u001b[0mplt\u001b[0m\u001b[0;34m.\u001b[0m\u001b[0mplot\u001b[0m\u001b[0;34m(\u001b[0m\u001b[0mmodel\u001b[0m\u001b[0;34m.\u001b[0m\u001b[0mhistory\u001b[0m\u001b[0;34m.\u001b[0m\u001b[0mhistory\u001b[0m\u001b[0;34m[\u001b[0m\u001b[0;34m'val_accuracy'\u001b[0m\u001b[0;34m]\u001b[0m\u001b[0;34m)\u001b[0m\u001b[0;34m\u001b[0m\u001b[0;34m\u001b[0m\u001b[0m\n\u001b[1;32m      3\u001b[0m \u001b[0mplt\u001b[0m\u001b[0;34m.\u001b[0m\u001b[0mlegend\u001b[0m\u001b[0;34m(\u001b[0m\u001b[0;34m[\u001b[0m\u001b[0;34m'accuracy'\u001b[0m\u001b[0;34m,\u001b[0m\u001b[0;34m'validation accuracy'\u001b[0m\u001b[0;34m]\u001b[0m\u001b[0;34m)\u001b[0m\u001b[0;34m\u001b[0m\u001b[0;34m\u001b[0m\u001b[0m\n",
            "\u001b[0;31mKeyError\u001b[0m: 'accuracy'"
          ]
        }
      ],
      "source": [
        "plt.plot(model.history.history['accuracy'])\n",
        "plt.plot(model.history.history['val_accuracy'])\n",
        "plt.legend(['accuracy','validation accuracy'])"
      ]
    },
    {
      "cell_type": "code",
      "execution_count": 88,
      "id": "f0d8f398",
      "metadata": {
        "id": "f0d8f398"
      },
      "outputs": [],
      "source": [
        "model.save('keras_model.h5')"
      ]
    },
    {
      "cell_type": "code",
      "execution_count": 89,
      "id": "2b10f928",
      "metadata": {
        "colab": {
          "base_uri": "https://localhost:8080/"
        },
        "id": "2b10f928",
        "outputId": "e9d81f0e-3c9d-4f47-9b74-25b1a8afce70"
      },
      "outputs": [
        {
          "output_type": "stream",
          "name": "stdout",
          "text": [
            "Model: \"sequential_2\"\n",
            "_________________________________________________________________\n",
            " Layer (type)                Output Shape              Param #   \n",
            "=================================================================\n",
            " lstm_8 (LSTM)               (None, 100, 100)          40800     \n",
            "                                                                 \n",
            " lstm_9 (LSTM)               (None, 100, 75)           52800     \n",
            "                                                                 \n",
            " lstm_10 (LSTM)              (None, 100, 50)           25200     \n",
            "                                                                 \n",
            " lstm_11 (LSTM)              (None, 25)                7600      \n",
            "                                                                 \n",
            " dense_2 (Dense)             (None, 1)                 26        \n",
            "                                                                 \n",
            "=================================================================\n",
            "Total params: 126,426\n",
            "Trainable params: 126,426\n",
            "Non-trainable params: 0\n",
            "_________________________________________________________________\n"
          ]
        }
      ],
      "source": [
        "model.summary()"
      ]
    },
    {
      "cell_type": "code",
      "execution_count": 90,
      "id": "e8d2984b",
      "metadata": {
        "colab": {
          "base_uri": "https://localhost:8080/"
        },
        "id": "e8d2984b",
        "outputId": "de8c56bf-522f-4a20-c802-606f41555ea5"
      },
      "outputs": [
        {
          "output_type": "execute_result",
          "data": {
            "text/plain": [
              "(             Close\n",
              " 2636  69143.351562\n",
              " 2637  70244.296875\n",
              " 2638  69782.296875\n",
              " 2639  68731.351562\n",
              " 2640  67783.398438,\n",
              " (1130, 1))"
            ]
          },
          "metadata": {},
          "execution_count": 90
        }
      ],
      "source": [
        "data_testing.head(), data_testing.shape"
      ]
    },
    {
      "cell_type": "code",
      "execution_count": 91,
      "id": "6591ba9b",
      "metadata": {
        "id": "6591ba9b"
      },
      "outputs": [],
      "source": [
        "past_100_days = data_training.tail(100)"
      ]
    },
    {
      "cell_type": "code",
      "execution_count": 92,
      "id": "be0d15fd",
      "metadata": {
        "colab": {
          "base_uri": "https://localhost:8080/"
        },
        "id": "be0d15fd",
        "outputId": "a7395542-d2eb-4e90-ef1a-fe1658020297"
      },
      "outputs": [
        {
          "output_type": "stream",
          "name": "stderr",
          "text": [
            "<ipython-input-92-1e7e7f089a7f>:1: FutureWarning: The frame.append method is deprecated and will be removed from pandas in a future version. Use pandas.concat instead.\n",
            "  final_df = past_100_days.append(data_testing, ignore_index = True)\n"
          ]
        }
      ],
      "source": [
        "final_df = past_100_days.append(data_testing, ignore_index = True)"
      ]
    },
    {
      "cell_type": "code",
      "execution_count": 93,
      "id": "4acaf71b",
      "metadata": {
        "colab": {
          "base_uri": "https://localhost:8080/"
        },
        "id": "4acaf71b",
        "outputId": "be6af725-607e-4f25-c830-3e24f5e96949"
      },
      "outputs": [
        {
          "output_type": "execute_result",
          "data": {
            "text/plain": [
              "(1230, 1)"
            ]
          },
          "metadata": {},
          "execution_count": 93
        }
      ],
      "source": [
        "final_df.shape"
      ]
    },
    {
      "cell_type": "code",
      "execution_count": 94,
      "id": "a9c16580",
      "metadata": {
        "colab": {
          "base_uri": "https://localhost:8080/"
        },
        "id": "a9c16580",
        "outputId": "956d0f89-4504-440b-aad8-3f0eb5f51246"
      },
      "outputs": [
        {
          "output_type": "execute_result",
          "data": {
            "text/plain": [
              "array([[0.5808391 ],\n",
              "       [0.57753607],\n",
              "       [0.57724599],\n",
              "       ...,\n",
              "       [0.72056907],\n",
              "       [0.72542527],\n",
              "       [0.74407378]])"
            ]
          },
          "metadata": {},
          "execution_count": 94
        }
      ],
      "source": [
        "input_data = scaler.fit_transform(final_df)\n",
        "input_data"
      ]
    },
    {
      "cell_type": "code",
      "execution_count": 95,
      "id": "6c6ddf22",
      "metadata": {
        "colab": {
          "base_uri": "https://localhost:8080/"
        },
        "id": "6c6ddf22",
        "outputId": "dd7da541-8850-4783-b432-69e38c4f23fc"
      },
      "outputs": [
        {
          "output_type": "execute_result",
          "data": {
            "text/plain": [
              "(1230, 1)"
            ]
          },
          "metadata": {},
          "execution_count": 95
        }
      ],
      "source": [
        "input_data.shape"
      ]
    },
    {
      "cell_type": "code",
      "execution_count": 96,
      "id": "1d6576a9",
      "metadata": {
        "colab": {
          "base_uri": "https://localhost:8080/"
        },
        "id": "1d6576a9",
        "outputId": "c7c4471c-863a-4b76-c795-b18211c181a9"
      },
      "outputs": [
        {
          "output_type": "stream",
          "name": "stdout",
          "text": [
            "(3766, 1)\n"
          ]
        }
      ],
      "source": [
        "x_test = []\n",
        "y_test = []\n",
        "\n",
        "test_data = df['Close']\n",
        "test_data_array = test_data.to_numpy()\n",
        "test_data_array = scaler.fit_transform(test_data_array.reshape(-1,1))\n",
        "print(test_data_array.shape)\n",
        "\n",
        "for i in range(100, test_data_array.shape[0]):\n",
        "    x_test.append(test_data_array[i-100: i])\n",
        "    y_test.append(test_data_array[i])\n",
        "    \n",
        "# for i in range(100, input_data.shape[0]):\n",
        "#     x_test.append(input_data[i-100: i])\n",
        "#     y_test.append(input_data[i, 0])"
      ]
    },
    {
      "cell_type": "code",
      "execution_count": 97,
      "id": "5a5b5d4b",
      "metadata": {
        "colab": {
          "base_uri": "https://localhost:8080/"
        },
        "id": "5a5b5d4b",
        "outputId": "1cf645df-d2c9-453a-f3a9-6c33111b78c0"
      },
      "outputs": [
        {
          "output_type": "stream",
          "name": "stdout",
          "text": [
            "[[[0.05895333]\n",
            "  [0.05796007]\n",
            "  [0.05781339]\n",
            "  ...\n",
            "  [0.02686964]\n",
            "  [0.02653908]\n",
            "  [0.02631277]]\n",
            "\n",
            " [[0.05796007]\n",
            "  [0.05781339]\n",
            "  [0.05772538]\n",
            "  ...\n",
            "  [0.02653908]\n",
            "  [0.02631277]\n",
            "  [0.02745899]]\n",
            "\n",
            " [[0.05781339]\n",
            "  [0.05772538]\n",
            "  [0.05731415]\n",
            "  ...\n",
            "  [0.02631277]\n",
            "  [0.02745899]\n",
            "  [0.02658728]]\n",
            "\n",
            " ...\n",
            "\n",
            " [[0.88690769]\n",
            "  [0.90151726]\n",
            "  [0.9026881 ]\n",
            "  ...\n",
            "  [0.86826851]\n",
            "  [0.86354373]\n",
            "  [0.86412677]]\n",
            "\n",
            " [[0.90151726]\n",
            "  [0.9026881 ]\n",
            "  [0.90483022]\n",
            "  ...\n",
            "  [0.86354373]\n",
            "  [0.86412677]\n",
            "  [0.86824338]]\n",
            "\n",
            " [[0.9026881 ]\n",
            "  [0.90483022]\n",
            "  [0.90694927]\n",
            "  ...\n",
            "  [0.86412677]\n",
            "  [0.86824338]\n",
            "  [0.87053317]]]\n",
            "(3666, 1)\n"
          ]
        }
      ],
      "source": [
        "x_test, y_test = np.array(x_test), np.array(y_test)\n",
        "print(x_test)\n",
        "print(y_test.shape)"
      ]
    },
    {
      "cell_type": "code",
      "execution_count": 98,
      "id": "9bf36b8a",
      "metadata": {
        "colab": {
          "base_uri": "https://localhost:8080/"
        },
        "id": "9bf36b8a",
        "outputId": "88170ea1-05de-473a-99c6-d69bc648c461"
      },
      "outputs": [
        {
          "output_type": "stream",
          "name": "stdout",
          "text": [
            "115/115 [==============================] - 10s 79ms/step\n"
          ]
        }
      ],
      "source": [
        "y_predicted = model.predict(x_test)"
      ]
    },
    {
      "cell_type": "code",
      "execution_count": 99,
      "id": "66c88dc5",
      "metadata": {
        "colab": {
          "base_uri": "https://localhost:8080/"
        },
        "id": "66c88dc5",
        "outputId": "fe353b47-12e7-4427-9af7-87d4aa631f28"
      },
      "outputs": [
        {
          "output_type": "execute_result",
          "data": {
            "text/plain": [
              "(3666, 1)"
            ]
          },
          "metadata": {},
          "execution_count": 99
        }
      ],
      "source": [
        "y_predicted.shape"
      ]
    },
    {
      "cell_type": "code",
      "execution_count": 100,
      "id": "2702fbdd",
      "metadata": {
        "colab": {
          "base_uri": "https://localhost:8080/"
        },
        "id": "2702fbdd",
        "outputId": "f5026c3d-79f3-4915-9333-ba850a89c1dd"
      },
      "outputs": [
        {
          "output_type": "execute_result",
          "data": {
            "text/plain": [
              "array([[0.02745899],\n",
              "       [0.02658728],\n",
              "       [0.02599583],\n",
              "       ...,\n",
              "       [0.86824338],\n",
              "       [0.87053317],\n",
              "       [0.87932627]])"
            ]
          },
          "metadata": {},
          "execution_count": 100
        }
      ],
      "source": [
        "y_test"
      ]
    },
    {
      "cell_type": "code",
      "execution_count": 101,
      "id": "5213c5cd",
      "metadata": {
        "colab": {
          "base_uri": "https://localhost:8080/"
        },
        "id": "5213c5cd",
        "outputId": "5b639c13-55ef-4d7b-cdc8-571fac86aaee"
      },
      "outputs": [
        {
          "output_type": "execute_result",
          "data": {
            "text/plain": [
              "array([[0.0271422 ],\n",
              "       [0.02692336],\n",
              "       [0.02674846],\n",
              "       ...,\n",
              "       [0.865906  ],\n",
              "       [0.8677467 ],\n",
              "       [0.8699224 ]], dtype=float32)"
            ]
          },
          "metadata": {},
          "execution_count": 101
        }
      ],
      "source": [
        "y_predicted"
      ]
    },
    {
      "cell_type": "code",
      "execution_count": 102,
      "id": "a3ada64d",
      "metadata": {
        "colab": {
          "base_uri": "https://localhost:8080/"
        },
        "id": "a3ada64d",
        "outputId": "0cbd9b81-93c6-4a6d-a065-abe6f16b9478"
      },
      "outputs": [
        {
          "output_type": "execute_result",
          "data": {
            "text/plain": [
              "1.0477331330601e-05"
            ]
          },
          "metadata": {},
          "execution_count": 102
        }
      ],
      "source": [
        "scaler.scale_[0]"
      ]
    },
    {
      "cell_type": "code",
      "execution_count": 103,
      "id": "a003cceb",
      "metadata": {
        "id": "a003cceb"
      },
      "outputs": [],
      "source": [
        "scale_factor = 1 / scaler.scale_[0]\n",
        "y_predicted = y_predicted*scale_factor\n",
        "y_test = y_test*scale_factor"
      ]
    },
    {
      "cell_type": "code",
      "execution_count": 104,
      "id": "ed738271",
      "metadata": {
        "colab": {
          "base_uri": "https://localhost:8080/",
          "height": 546
        },
        "id": "ed738271",
        "outputId": "d0620c6c-f5ec-4a8f-9c3f-34abffcd6198"
      },
      "outputs": [
        {
          "output_type": "display_data",
          "data": {
            "text/plain": [
              "<Figure size 1000x600 with 1 Axes>"
            ],
            "image/png": "[encoded data removed]"
          },
          "metadata": {}
        }
      ],
      "source": [
        "plt.figure(figsize = (10,6))\n",
        "plt.plot(y_test, 'b', label = 'Original Prcice')\n",
        "plt.plot(y_predicted, 'r', label = 'Predicted Price')\n",
        "plt.xlabel('Time')\n",
        "plt.ylabel('Price')\n",
        "plt.legend()\n",
        "plt.show()"
      ]
    },
    {
      "cell_type": "code",
      "source": [
        "from sklearn.metrics import mean_squared_error, r2_score, mean_absolute_error\n",
        "print('R2 Score: ', r2_score(y_test, y_predicted))\n",
        "print('MAE: ', mean_absolute_error(y_test, y_predicted))"
      ],
      "metadata": {
        "colab": {
          "base_uri": "https://localhost:8080/"
        },
        "id": "M6oCGDwGHFH1",
        "outputId": "143d87d2-876a-4932-9e43-dba5c18470ff"
      },
      "id": "M6oCGDwGHFH1",
      "execution_count": 106,
      "outputs": [
        {
          "output_type": "stream",
          "name": "stdout",
          "text": [
            "R2 Score:  0.9987611870668498\n",
            "MAE:  673.0150598254417\n"
          ]
        }
      ]
    },
    {
      "cell_type": "code",
      "execution_count": 105,
      "id": "afd27770",
      "metadata": {
        "colab": {
          "base_uri": "https://localhost:8080/"
        },
        "id": "afd27770",
        "outputId": "fb180b60-a53f-4a77-bf39-168cdb4ce827"
      },
      "outputs": [
        {
          "output_type": "execute_result",
          "data": {
            "text/plain": [
              "((3666, 100, 1), (3666, 1))"
            ]
          },
          "metadata": {},
          "execution_count": 105
        }
      ],
      "source": [
        "x_test.shape , y_test.shape"
      ]
    },
    {
      "cell_type": "code",
      "execution_count": 107,
      "id": "7a426b7e",
      "metadata": {
        "id": "7a426b7e"
      },
      "outputs": [],
      "source": [
        "fut_inp = x_test[x_test.shape[0] - 100]\n",
        "fut_inp = fut_inp.reshape(1,-1)\n",
        "tmp_inp = list(fut_inp)"
      ]
    },
    {
      "cell_type": "code",
      "execution_count": 108,
      "id": "86c15090",
      "metadata": {
        "colab": {
          "base_uri": "https://localhost:8080/"
        },
        "id": "86c15090",
        "outputId": "701cb688-29e7-4ed8-8b15-f231b77bf69d"
      },
      "outputs": [
        {
          "output_type": "execute_result",
          "data": {
            "text/plain": [
              "(1, 100)"
            ]
          },
          "metadata": {},
          "execution_count": 108
        }
      ],
      "source": [
        "fut_inp.shape"
      ]
    },
    {
      "cell_type": "code",
      "execution_count": 109,
      "id": "70ac3982",
      "metadata": {
        "colab": {
          "base_uri": "https://localhost:8080/"
        },
        "id": "70ac3982",
        "outputId": "0ef2f268-641f-4416-8ca9-a87b86405bf7"
      },
      "outputs": [
        {
          "output_type": "stream",
          "name": "stdout",
          "text": [
            "[[0.8929417133331299], [0.8929417133331299], [0.8929417133331299], [0.8929417133331299], [0.8929417133331299], [0.8929417133331299], [0.8929417133331299], [0.8929417133331299], [0.8929417133331299], [0.8929417133331299], [0.8929417133331299], [0.8929417133331299], [0.8929417133331299], [0.8929417133331299], [0.8929417133331299], [0.8929417133331299], [0.8929417133331299], [0.8929417133331299], [0.8929417133331299], [0.8929417133331299], [0.8929417133331299], [0.8929417133331299], [0.8929417133331299], [0.8929417133331299], [0.8929417133331299], [0.8929417133331299], [0.8929417133331299], [0.8929417133331299], [0.8929417133331299], [0.8929417133331299]]\n"
          ]
        }
      ],
      "source": [
        "#Predicting next 30 days price suing the current data\n",
        "#It will predict in sliding window manner (algorithm) with stride 1\n",
        "lst_output=[]\n",
        "n_steps=100\n",
        "i=0\n",
        "while (i<30): \n",
        "    if(len(tmp_inp) >100):\n",
        "        fut_inp = np.array(tmp_inp [1:])\n",
        "        fut_inp = fut_inp.reshape(1,-1)\n",
        "        fut_inp = fut_inp.reshape((1, n_steps, 1))\n",
        "        yhat = model.predict(fut_inp, verbose=0)\n",
        "        tmp_inp.extend(yhat [0].tolist())\n",
        "        tmp_inp = tmp_inp[1:]\n",
        "        lst_output.extend(yhat.tolist())\n",
        "        i=i+1\n",
        "    else:\n",
        "        fut_inp = fut_inp.reshape((1, n_steps, 1))\n",
        "        yhat = model.predict(fut_inp, verbose=0)\n",
        "        tmp_inp.extend(yhat [0].tolist())\n",
        "        lst_output.extend(yhat.tolist())\n",
        "        i=i+1\n",
        "        \n",
        "print (lst_output)"
      ]
    },
    {
      "cell_type": "code",
      "execution_count": 110,
      "id": "0c8793dc",
      "metadata": {
        "colab": {
          "base_uri": "https://localhost:8080/"
        },
        "id": "0c8793dc",
        "outputId": "0502fab5-b43c-48e5-f052-38b55b4a0393"
      },
      "outputs": [
        {
          "output_type": "execute_result",
          "data": {
            "text/plain": [
              "1.0477331330601e-05"
            ]
          },
          "metadata": {},
          "execution_count": 110
        }
      ],
      "source": [
        "scaler.scale_[0]"
      ]
    },
    {
      "cell_type": "code",
      "execution_count": 112,
      "id": "be9f608c",
      "metadata": {
        "colab": {
          "base_uri": "https://localhost:8080/",
          "height": 165
        },
        "id": "be9f608c",
        "outputId": "fbf103a8-673d-4f50-fefb-f11d06306790"
      },
      "outputs": [
        {
          "output_type": "error",
          "ename": "TypeError",
          "evalue": "ignored",
          "traceback": [
            "\u001b[0;31m---------------------------------------------------------------------------\u001b[0m",
            "\u001b[0;31mTypeError\u001b[0m                                 Traceback (most recent call last)",
            "\u001b[0;32m<ipython-input-112-e86f32bb3bf8>\u001b[0m in \u001b[0;36m<cell line: 1>\u001b[0;34m()\u001b[0m\n\u001b[0;32m----> 1\u001b[0;31m \u001b[0mlst_output\u001b[0m\u001b[0;34m=\u001b[0m \u001b[0mlst_output\u001b[0m\u001b[0;34m/\u001b[0m\u001b[0;36m1.0477331330601e-05\u001b[0m\u001b[0;34m\u001b[0m\u001b[0;34m\u001b[0m\u001b[0m\n\u001b[0m",
            "\u001b[0;31mTypeError\u001b[0m: unsupported operand type(s) for /: 'list' and 'float'"
          ]
        }
      ],
      "source": [
        "lst_output= lst_output/1.0477331330601e-05"
      ]
    },
    {
      "cell_type": "code",
      "execution_count": 114,
      "id": "bad44bb5",
      "metadata": {
        "colab": {
          "base_uri": "https://localhost:8080/"
        },
        "id": "bad44bb5",
        "outputId": "4c3be91e-1c54-4d39-833a-098b9ac298bd"
      },
      "outputs": [
        {
          "output_type": "execute_result",
          "data": {
            "text/plain": [
              "[[0.8929417133331299],\n",
              " [0.8929417133331299],\n",
              " [0.8929417133331299],\n",
              " [0.8929417133331299],\n",
              " [0.8929417133331299],\n",
              " [0.8929417133331299],\n",
              " [0.8929417133331299],\n",
              " [0.8929417133331299],\n",
              " [0.8929417133331299],\n",
              " [0.8929417133331299],\n",
              " [0.8929417133331299],\n",
              " [0.8929417133331299],\n",
              " [0.8929417133331299],\n",
              " [0.8929417133331299],\n",
              " [0.8929417133331299],\n",
              " [0.8929417133331299],\n",
              " [0.8929417133331299],\n",
              " [0.8929417133331299],\n",
              " [0.8929417133331299],\n",
              " [0.8929417133331299],\n",
              " [0.8929417133331299],\n",
              " [0.8929417133331299],\n",
              " [0.8929417133331299],\n",
              " [0.8929417133331299],\n",
              " [0.8929417133331299],\n",
              " [0.8929417133331299],\n",
              " [0.8929417133331299],\n",
              " [0.8929417133331299],\n",
              " [0.8929417133331299],\n",
              " [0.8929417133331299]]"
            ]
          },
          "metadata": {},
          "execution_count": 114
        }
      ],
      "source": [
        "lst_output"
      ]
    },
    {
      "cell_type": "code",
      "execution_count": 116,
      "id": "eea653a4",
      "metadata": {
        "colab": {
          "base_uri": "https://localhost:8080/",
          "height": 539
        },
        "id": "eea653a4",
        "outputId": "e862d409-a6e9-408e-b40a-a5f350e50660"
      },
      "outputs": [
        {
          "output_type": "execute_result",
          "data": {
            "text/plain": [
              "[<matplotlib.lines.Line2D at 0x7f0d4cbe2fa0>]"
            ]
          },
          "metadata": {},
          "execution_count": 116
        },
        {
          "output_type": "display_data",
          "data": {
            "text/plain": [
              "<Figure size 1200x600 with 1 Axes>"
            ],
            "image/png": "[encoded data removed]"
          },
          "metadata": {}
        }
      ],
      "source": [
        "plt.figure(figsize = (12,6))\n",
        "plt.plot(lst_output, 'b', label = 'Original Prcice')"
      ]
    }
  ],
  "metadata": {
    "kernelspec": {
      "display_name": "Python 3 (ipykernel)",
      "language": "python",
      "name": "python3"
    },
    "language_info": {
      "codemirror_mode": {
        "name": "ipython",
        "version": 3
      },
      "file_extension": ".py",
      "mimetype": "text/x-python",
      "name": "python",
      "nbconvert_exporter": "python",
      "pygments_lexer": "ipython3",
      "version": "3.11.1"
    },
    "colab": {
      "provenance": []
    }
  },
  "nbformat": 4,
  "nbformat_minor": 5
}